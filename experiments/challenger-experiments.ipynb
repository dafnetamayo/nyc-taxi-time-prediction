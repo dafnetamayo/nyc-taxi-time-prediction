{
 "cells": [
  {
   "cell_type": "markdown",
   "metadata": {},
   "source": [
    "## Tarea y actividad en clase.\n",
    "\n",
    "1. Hacer merge de la rama que trabajamos a main.\n",
    "2. Crear una nueva rama que se llame `feat: tarea 5`.\n",
    "3. Crear un nuevo `jupyter-notebook` llamado `challenger-experiments.ipynb` en la rama creada anteriormente\n",
    "4. Hacer dos `parent experiments` con `Gradient Boost` y `Random Forest` regressors en donde cada uno tenga `child experiments` con búsqueda de hyper-parámetros. Puede usar cualquier libreraría con la que se sienta cómodo: `hyperopt`, `optuna`, `scikit-learn` (Grid Search, Random Search, Halving Search etc)\n",
    "5. Registrar el modelo con la mejor métrica de los obtenidos en dichos experimentos en el `model registry` en el mismo modelo ya previamente creado `nyc-taxi-model`.\n",
    "6. Asígnele el alias `challenger`\n",
    "7. Descargue en la carpeta `data` el conjunto de datos correspondiente a marzo del 2024\n",
    "8. Guardela en el `storage` disponible de `mlflow`\n",
    "9. Use ese conjunto de datos para probarlo sobre los modelos con el alias `champion` y `challenger`\n",
    "10. Obtenga la métrica de cada modelo\n",
    "11. Decida si el nuevo modelo `challenger` debe ser promovido a `champion` o no. Use los criterios que usted como Data Scientis considere relevantes y justifique la respuesta.\n",
    "12. Abrir un `PR` con los cambios hechos en la rama `feat: tarea 5` hacia la rama `main`.\n",
    "\n",
    "\n",
    "Habrá dos entregas divididas de la siguiente manera:\n",
    "\n",
    "1. **Trabajo en clase hoy Martes 17 de Septiembre de 2024.** Para esta entrega, hacer un commit con el siguiente mensaje `feat: entrega trabajo en clase` con los avances realizados en clase.\n",
    "\n",
    "2. **Tarea: Viernes 20 de Septiembre de 2024 a las 19:55.** Esta entrega debe contener todo lo descrito anteriormente"
   ]
  },
  {
   "cell_type": "code",
   "execution_count": 50,
   "metadata": {},
   "outputs": [],
   "source": [
    "import pandas as pd\n",
    "from sklearn.feature_extraction import  DictVectorizer"
   ]
  },
  {
   "cell_type": "code",
   "execution_count": null,
   "metadata": {},
   "outputs": [],
   "source": []
  },
  {
   "cell_type": "code",
   "execution_count": 51,
   "metadata": {},
   "outputs": [],
   "source": [
    "def read_dataframe(filename):\n",
    "\n",
    "    df = pd.read_parquet(filename)\n",
    "\n",
    "    df['duration'] = df.lpep_dropoff_datetime - df.lpep_pickup_datetime\n",
    "    df.duration = df.duration.apply(lambda td: td.total_seconds() / 60)\n",
    "\n",
    "    df = df[(df.duration >= 1) & (df.duration <= 60)]\n",
    "\n",
    "    categorical = ['PULocationID', 'DOLocationID']\n",
    "    df[categorical] = df[categorical].astype(str)\n",
    "\n",
    "    return df"
   ]
  },
  {
   "cell_type": "code",
   "execution_count": 52,
   "metadata": {},
   "outputs": [],
   "source": [
    "df_train = read_dataframe('../data/green_tripdata_2024-01.parquet')\n",
    "df_val = read_dataframe('../data/green_tripdata_2024-02.parquet')"
   ]
  },
  {
   "cell_type": "code",
   "execution_count": 53,
   "metadata": {},
   "outputs": [
    {
     "name": "stdout",
     "output_type": "stream",
     "text": [
      "  % Total    % Received % Xferd  Average Speed   Time    Time     Time  Current\n",
      "                                 Dload  Upload   Total   Spent    Left  Speed\n",
      "100 1330k  100 1330k    0     0  3382k      0 --:--:-- --:--:-- --:--:-- 3385k\n",
      "  % Total    % Received % Xferd  Average Speed   Time    Time     Time  Current\n",
      "                                 Dload  Upload   Total   Spent    Left  Speed\n",
      "100 1253k  100 1253k    0     0   888k      0  0:00:01  0:00:01 --:--:--  888k\n",
      "  % Total    % Received % Xferd  Average Speed   Time    Time     Time  Current\n",
      "                                 Dload  Upload   Total   Spent    Left  Speed\n",
      "100 1340k  100 1340k    0     0  4006k      0 --:--:-- --:--:-- --:--:-- 4012k\n"
     ]
    }
   ],
   "source": [
    "#For March\n",
    "!curl -o ../data/green_tripdata_2024-01.parquet https://d37ci6vzurychx.cloudfront.net/trip-data/green_tripdata_2024-01.parquet\n",
    "!curl -o ../data/green_tripdata_2024-02.parquet https://d37ci6vzurychx.cloudfront.net/trip-data/green_tripdata_2024-02.parquet\n",
    "!curl -o ../data/green_tripdata_2024-03.parquet https://d37ci6vzurychx.cloudfront.net/trip-data/green_tripdata_2024-03.parquet\n",
    "\n",
    "\n",
    "df_train = read_dataframe('../data/green_tripdata_2024-03.parquet')\n",
    "df_val = read_dataframe('../data/green_tripdata_2024-03.parquet')"
   ]
  },
  {
   "cell_type": "code",
   "execution_count": 54,
   "metadata": {},
   "outputs": [],
   "source": [
    "df_train['PU_DO'] = df_train['PULocationID'] + '_' + df_train['DOLocationID']\n",
    "df_val['PU_DO'] = df_val['PULocationID'] + '_' + df_val['DOLocationID']"
   ]
  },
  {
   "cell_type": "code",
   "execution_count": 55,
   "metadata": {},
   "outputs": [],
   "source": [
    "categorical = ['PU_DO']  #'PULocationID', 'DOLocationID']\n",
    "numerical = ['trip_distance']\n",
    "dv = DictVectorizer()\n",
    "\n",
    "train_dicts = df_train[categorical + numerical].to_dict(orient='records')\n",
    "X_train = dv.fit_transform(train_dicts)\n",
    "\n",
    "val_dicts = df_val[categorical + numerical].to_dict(orient='records')\n",
    "X_val = dv.transform(val_dicts)"
   ]
  },
  {
   "cell_type": "code",
   "execution_count": 56,
   "metadata": {},
   "outputs": [],
   "source": [
    "target = 'duration'\n",
    "y_train = df_train[target].values\n",
    "y_val = df_val[target].values"
   ]
  },
  {
   "cell_type": "code",
   "execution_count": 57,
   "metadata": {},
   "outputs": [
    {
     "data": {
      "text/html": [
       "<pre style=\"white-space:pre;overflow-x:auto;line-height:normal;font-family:Menlo,'DejaVu Sans Mono',consolas,'Courier New',monospace\">Initialized MLflow to track repo <span style=\"color: #008000; text-decoration-color: #008000\">\"Pepe-Chuy/nyc-taxi-time-prediction\"</span>\n",
       "</pre>\n"
      ],
      "text/plain": [
       "Initialized MLflow to track repo \u001b[32m\"Pepe-Chuy/nyc-taxi-time-prediction\"\u001b[0m\n"
      ]
     },
     "metadata": {},
     "output_type": "display_data"
    },
    {
     "data": {
      "text/html": [
       "<pre style=\"white-space:pre;overflow-x:auto;line-height:normal;font-family:Menlo,'DejaVu Sans Mono',consolas,'Courier New',monospace\">Repository Pepe-Chuy/nyc-taxi-time-prediction initialized!\n",
       "</pre>\n"
      ],
      "text/plain": [
       "Repository Pepe-Chuy/nyc-taxi-time-prediction initialized!\n"
      ]
     },
     "metadata": {},
     "output_type": "display_data"
    },
    {
     "name": "stdout",
     "output_type": "stream",
     "text": [
      "https://dagshub.com/Pepe-Chuy/nyc-taxi-time-prediction.mlflow\n"
     ]
    },
    {
     "data": {
      "text/plain": [
       "<Experiment: artifact_location='mlflow-artifacts:/f89c177353e742bf83c2fd3dab8421bb', creation_time=1726630694466, experiment_id='0', last_update_time=1726630694466, lifecycle_stage='active', name='nyc-taxi-experiment', tags={}>"
      ]
     },
     "execution_count": 57,
     "metadata": {},
     "output_type": "execute_result"
    }
   ],
   "source": [
    "import dagshub\n",
    "import mlflow\n",
    "\n",
    "\n",
    "dagshub.init(url=\"https://dagshub.com/Pepe-Chuy/nyc-taxi-time-prediction\", mlflow=True)\n",
    "\n",
    "MLFLOW_TRACKING_URI = mlflow.get_tracking_uri()\n",
    "\n",
    "print(MLFLOW_TRACKING_URI)\n",
    "\n",
    "mlflow.set_tracking_uri(MLFLOW_TRACKING_URI)\n",
    "mlflow.set_experiment(experiment_name=\"nyc-taxi-experiment\")"
   ]
  },
  {
   "cell_type": "code",
   "execution_count": 58,
   "metadata": {},
   "outputs": [],
   "source": [
    "training_dataset = mlflow.data.from_numpy(X_train.data, targets=y_train, name=\"green_tripdata_2024-01\")\n",
    "validation_dataset = mlflow.data.from_numpy(X_val.data, targets=y_val, name=\"green_tripdata_2024-02\")"
   ]
  },
  {
   "cell_type": "code",
   "execution_count": 59,
   "metadata": {},
   "outputs": [
    {
     "data": {
      "text/html": [
       "<pre style=\"white-space:pre;overflow-x:auto;line-height:normal;font-family:Menlo,'DejaVu Sans Mono',consolas,'Courier New',monospace\">Client created. Use the name of the repo <span style=\"font-weight: bold\">(</span>nyc-taxi-time-prediction<span style=\"font-weight: bold\">)</span> as the name of the bucket\n",
       "</pre>\n"
      ],
      "text/plain": [
       "Client created. Use the name of the repo \u001b[1m(\u001b[0mnyc-taxi-time-prediction\u001b[1m)\u001b[0m as the name of the bucket\n"
      ]
     },
     "metadata": {},
     "output_type": "display_data"
    }
   ],
   "source": [
    "from dagshub import get_repo_bucket_client\n",
    "# Get a boto3.client object\n",
    "s3 = get_repo_bucket_client(\"Pepe-Chuy/nyc-taxi-time-prediction\")\n",
    "\n",
    "# Upload file\n",
    "s3.upload_file(\n",
    "    Bucket=\"nyc-taxi-time-prediction\",  # name of the repo\n",
    "    Filename=\"../data/green_tripdata_2024-01.parquet\",  # local path of file to upload\n",
    "    Key=\"train_data.parquet\",  # remote path where to upload the file\n",
    ")\n",
    "\n",
    "# Upload file\n",
    "s3.upload_file(\n",
    "    Bucket=\"nyc-taxi-time-prediction\",  # name of the repo\n",
    "    Filename=\"../data/green_tripdata_2024-02.parquet\",  # local path of file to upload\n",
    "    Key=\"eval_data.parquet\",  # remote path where to upload the file\n",
    ")"
   ]
  },
  {
   "cell_type": "markdown",
   "metadata": {},
   "source": [
    "## Modeling"
   ]
  },
  {
   "cell_type": "code",
   "execution_count": 60,
   "metadata": {},
   "outputs": [],
   "source": [
    "from sklearn.ensemble import RandomForestRegressor as rfr, GradientBoostingRegressor as gbr\n",
    "from hyperopt import fmin, tpe, hp, STATUS_OK, Trials\n",
    "import numpy as np\n",
    "from sklearn.metrics import mean_squared_error"
   ]
  },
  {
   "cell_type": "markdown",
   "metadata": {},
   "source": [
    "### Random Forest"
   ]
  },
  {
   "cell_type": "code",
   "execution_count": 61,
   "metadata": {},
   "outputs": [],
   "source": [
    "# Random Forest\n",
    "def objective(params):\n",
    "    with mlflow.start_run(nested=True):\n",
    "\n",
    "        #model family\n",
    "        mlflow.set_tag(\"model_family\", \"RandomForest\")\n",
    "\n",
    "        # Log parameters\n",
    "        mlflow.log_params(params)\n",
    "        \n",
    "        # Train model\n",
    "        rf_model = rfr(\n",
    "            n_estimators=int(params['n_estimators']),\n",
    "            max_depth=int(params['max_depth']),\n",
    "            min_samples_split=int(params['min_samples_split']),\n",
    "            min_samples_leaf=int(params['min_samples_leaf']),\n",
    "            random_state=42\n",
    "        )\n",
    "        rf_model.fit(X_train, y_train)\n",
    "        \n",
    "        # Predict \n",
    "        y_pred = rf_model.predict(X_val)\n",
    "        \n",
    "        # RMSE\n",
    "        rmse = np.sqrt(mean_squared_error(y_val, y_pred))\n",
    "        \n",
    "        # Log RMSE \n",
    "        mlflow.log_metric(\"rmse\", rmse)\n",
    " \n",
    "    return {'loss': rmse, 'status': STATUS_OK}"
   ]
  },
  {
   "cell_type": "code",
   "execution_count": 62,
   "metadata": {},
   "outputs": [],
   "source": [
    "mlflow.sklearn.autolog()\n",
    "\n",
    "#Params for RandomForest\n",
    "search_space = {\n",
    "    'n_estimators': hp.quniform('n_estimators', 10, 20, 1),\n",
    "    'max_depth': hp.quniform('max_depth', 5, 10, 1),\n",
    "    'min_samples_split': hp.quniform('min_samples_split', 2, 10, 1),\n",
    "    'min_samples_leaf': hp.quniform('min_samples_leaf', 1, 10, 1),\n",
    "}\n",
    " "
   ]
  },
  {
   "cell_type": "code",
   "execution_count": 63,
   "metadata": {},
   "outputs": [
    {
     "name": "stdout",
     "output_type": "stream",
     "text": [
      "  0%|          | 0/10 [00:00<?, ?trial/s, best loss=?]"
     ]
    },
    {
     "name": "stderr",
     "output_type": "stream",
     "text": [
      "2024/09/20 17:54:33 WARNING mlflow.sklearn: Failed to log training dataset information to MLflow Tracking. Reason: 'numpy.ndarray' object has no attribute 'toarray'\n",
      "\n",
      "2024/09/20 17:54:37 WARNING mlflow.utils.requirements_utils: Found lz4 version (4.0.2+dfsg) contains a local version label (+dfsg). MLflow logged a pip requirement for this package as 'lz4==4.0.2' without the local version label to make it installable from PyPI. To specify pip requirements containing local version labels, please use `conda_env` or `pip_requirements`.\n",
      "\n",
      "2024/09/20 17:54:40 WARNING mlflow.utils.autologging_utils: Encountered unexpected error during sklearn autologging: The following failures occurred while performing one or more logging operations: [MlflowException('Failed to perform one or more operations on the run with ID b0a95f8f0af44990a4c16aec8077106f. Failed operations: [RestException(\"INVALID_PARAMETER_VALUE: Response: {\\'error_code\\': \\'INVALID_PARAMETER_VALUE\\'}\")]')]\n",
      "\n",
      "2024/09/20 17:54:40 INFO mlflow.tracking._tracking_service.client: 🏃 View run clean-bat-141 at: https://dagshub.com/Pepe-Chuy/nyc-taxi-time-prediction.mlflow/#/experiments/0/runs/b0a95f8f0af44990a4c16aec8077106f.\n",
      "\n",
      "2024/09/20 17:54:40 INFO mlflow.tracking._tracking_service.client: 🧪 View experiment at: https://dagshub.com/Pepe-Chuy/nyc-taxi-time-prediction.mlflow/#/experiments/0.\n",
      "\n"
     ]
    },
    {
     "name": "stdout",
     "output_type": "stream",
     "text": [
      " 10%|█         | 1/10 [00:08<01:13,  8.21s/trial, best loss: 5.345092572070841]"
     ]
    },
    {
     "name": "stderr",
     "output_type": "stream",
     "text": [
      "2024/09/20 17:54:41 WARNING mlflow.sklearn: Failed to log training dataset information to MLflow Tracking. Reason: 'numpy.ndarray' object has no attribute 'toarray'\n",
      "\n",
      "2024/09/20 17:54:45 WARNING mlflow.utils.requirements_utils: Found lz4 version (4.0.2+dfsg) contains a local version label (+dfsg). MLflow logged a pip requirement for this package as 'lz4==4.0.2' without the local version label to make it installable from PyPI. To specify pip requirements containing local version labels, please use `conda_env` or `pip_requirements`.\n",
      "\n",
      "2024/09/20 17:54:48 WARNING mlflow.utils.autologging_utils: Encountered unexpected error during sklearn autologging: The following failures occurred while performing one or more logging operations: [MlflowException('Failed to perform one or more operations on the run with ID 3427bbd42fed4b00a9ed8e89c99ca4a3. Failed operations: [RestException(\"INVALID_PARAMETER_VALUE: Response: {\\'error_code\\': \\'INVALID_PARAMETER_VALUE\\'}\")]')]\n",
      "\n",
      "2024/09/20 17:54:48 INFO mlflow.tracking._tracking_service.client: 🏃 View run handsome-cod-359 at: https://dagshub.com/Pepe-Chuy/nyc-taxi-time-prediction.mlflow/#/experiments/0/runs/3427bbd42fed4b00a9ed8e89c99ca4a3.\n",
      "\n",
      "2024/09/20 17:54:48 INFO mlflow.tracking._tracking_service.client: 🧪 View experiment at: https://dagshub.com/Pepe-Chuy/nyc-taxi-time-prediction.mlflow/#/experiments/0.\n",
      "\n"
     ]
    },
    {
     "name": "stdout",
     "output_type": "stream",
     "text": [
      " 20%|██        | 2/10 [00:16<01:04,  8.07s/trial, best loss: 5.322386203535303]"
     ]
    },
    {
     "name": "stderr",
     "output_type": "stream",
     "text": [
      "2024/09/20 17:54:49 WARNING mlflow.sklearn: Failed to log training dataset information to MLflow Tracking. Reason: 'numpy.ndarray' object has no attribute 'toarray'\n",
      "\n",
      "2024/09/20 17:54:52 WARNING mlflow.utils.requirements_utils: Found lz4 version (4.0.2+dfsg) contains a local version label (+dfsg). MLflow logged a pip requirement for this package as 'lz4==4.0.2' without the local version label to make it installable from PyPI. To specify pip requirements containing local version labels, please use `conda_env` or `pip_requirements`.\n",
      "\n",
      "2024/09/20 17:54:55 WARNING mlflow.utils.autologging_utils: Encountered unexpected error during sklearn autologging: The following failures occurred while performing one or more logging operations: [MlflowException('Failed to perform one or more operations on the run with ID 84ef6e1790fa403ba3c06f1ca711e213. Failed operations: [RestException(\"INVALID_PARAMETER_VALUE: Response: {\\'error_code\\': \\'INVALID_PARAMETER_VALUE\\'}\")]')]\n",
      "\n",
      "2024/09/20 17:54:55 INFO mlflow.tracking._tracking_service.client: 🏃 View run capable-auk-731 at: https://dagshub.com/Pepe-Chuy/nyc-taxi-time-prediction.mlflow/#/experiments/0/runs/84ef6e1790fa403ba3c06f1ca711e213.\n",
      "\n",
      "2024/09/20 17:54:55 INFO mlflow.tracking._tracking_service.client: 🧪 View experiment at: https://dagshub.com/Pepe-Chuy/nyc-taxi-time-prediction.mlflow/#/experiments/0.\n",
      "\n"
     ]
    },
    {
     "name": "stdout",
     "output_type": "stream",
     "text": [
      " 30%|███       | 3/10 [00:22<00:51,  7.42s/trial, best loss: 5.322386203535303]"
     ]
    },
    {
     "name": "stderr",
     "output_type": "stream",
     "text": [
      "2024/09/20 17:54:56 WARNING mlflow.sklearn: Failed to log training dataset information to MLflow Tracking. Reason: 'numpy.ndarray' object has no attribute 'toarray'\n",
      "\n",
      "2024/09/20 17:54:59 WARNING mlflow.utils.requirements_utils: Found lz4 version (4.0.2+dfsg) contains a local version label (+dfsg). MLflow logged a pip requirement for this package as 'lz4==4.0.2' without the local version label to make it installable from PyPI. To specify pip requirements containing local version labels, please use `conda_env` or `pip_requirements`.\n",
      "\n",
      "2024/09/20 17:55:02 WARNING mlflow.utils.autologging_utils: Encountered unexpected error during sklearn autologging: The following failures occurred while performing one or more logging operations: [MlflowException('Failed to perform one or more operations on the run with ID eb62e8c03abb4e56bc451c80603be649. Failed operations: [RestException(\"INVALID_PARAMETER_VALUE: Response: {\\'error_code\\': \\'INVALID_PARAMETER_VALUE\\'}\")]')]\n",
      "\n",
      "2024/09/20 17:55:02 INFO mlflow.tracking._tracking_service.client: 🏃 View run rumbling-cub-103 at: https://dagshub.com/Pepe-Chuy/nyc-taxi-time-prediction.mlflow/#/experiments/0/runs/eb62e8c03abb4e56bc451c80603be649.\n",
      "\n",
      "2024/09/20 17:55:02 INFO mlflow.tracking._tracking_service.client: 🧪 View experiment at: https://dagshub.com/Pepe-Chuy/nyc-taxi-time-prediction.mlflow/#/experiments/0.\n",
      "\n"
     ]
    },
    {
     "name": "stdout",
     "output_type": "stream",
     "text": [
      " 40%|████      | 4/10 [00:30<00:44,  7.35s/trial, best loss: 5.322386203535303]"
     ]
    },
    {
     "name": "stderr",
     "output_type": "stream",
     "text": [
      "2024/09/20 17:55:03 WARNING mlflow.sklearn: Failed to log training dataset information to MLflow Tracking. Reason: 'numpy.ndarray' object has no attribute 'toarray'\n",
      "\n",
      "2024/09/20 17:55:06 WARNING mlflow.utils.requirements_utils: Found lz4 version (4.0.2+dfsg) contains a local version label (+dfsg). MLflow logged a pip requirement for this package as 'lz4==4.0.2' without the local version label to make it installable from PyPI. To specify pip requirements containing local version labels, please use `conda_env` or `pip_requirements`.\n",
      "\n",
      "2024/09/20 17:55:09 WARNING mlflow.utils.autologging_utils: Encountered unexpected error during sklearn autologging: The following failures occurred while performing one or more logging operations: [MlflowException('Failed to perform one or more operations on the run with ID 4e7aeee71d124eecb7d2c40dfc241121. Failed operations: [RestException(\"INVALID_PARAMETER_VALUE: Response: {\\'error_code\\': \\'INVALID_PARAMETER_VALUE\\'}\")]')]\n",
      "\n",
      "2024/09/20 17:55:10 INFO mlflow.tracking._tracking_service.client: 🏃 View run sassy-bug-107 at: https://dagshub.com/Pepe-Chuy/nyc-taxi-time-prediction.mlflow/#/experiments/0/runs/4e7aeee71d124eecb7d2c40dfc241121.\n",
      "\n",
      "2024/09/20 17:55:10 INFO mlflow.tracking._tracking_service.client: 🧪 View experiment at: https://dagshub.com/Pepe-Chuy/nyc-taxi-time-prediction.mlflow/#/experiments/0.\n",
      "\n"
     ]
    },
    {
     "name": "stdout",
     "output_type": "stream",
     "text": [
      " 50%|█████     | 5/10 [00:37<00:37,  7.49s/trial, best loss: 5.322386203535303]"
     ]
    },
    {
     "name": "stderr",
     "output_type": "stream",
     "text": [
      "2024/09/20 17:55:11 WARNING mlflow.sklearn: Failed to log training dataset information to MLflow Tracking. Reason: 'numpy.ndarray' object has no attribute 'toarray'\n",
      "\n",
      "2024/09/20 17:55:15 WARNING mlflow.utils.requirements_utils: Found lz4 version (4.0.2+dfsg) contains a local version label (+dfsg). MLflow logged a pip requirement for this package as 'lz4==4.0.2' without the local version label to make it installable from PyPI. To specify pip requirements containing local version labels, please use `conda_env` or `pip_requirements`.\n",
      "\n",
      "2024/09/20 17:55:18 WARNING mlflow.utils.autologging_utils: Encountered unexpected error during sklearn autologging: The following failures occurred while performing one or more logging operations: [MlflowException('Failed to perform one or more operations on the run with ID 696a22e369384ac0af62faf2e4d310b9. Failed operations: [RestException(\"INVALID_PARAMETER_VALUE: Response: {\\'error_code\\': \\'INVALID_PARAMETER_VALUE\\'}\")]')]\n",
      "\n",
      "2024/09/20 17:55:18 INFO mlflow.tracking._tracking_service.client: 🏃 View run unique-cod-312 at: https://dagshub.com/Pepe-Chuy/nyc-taxi-time-prediction.mlflow/#/experiments/0/runs/696a22e369384ac0af62faf2e4d310b9.\n",
      "\n",
      "2024/09/20 17:55:18 INFO mlflow.tracking._tracking_service.client: 🧪 View experiment at: https://dagshub.com/Pepe-Chuy/nyc-taxi-time-prediction.mlflow/#/experiments/0.\n",
      "\n"
     ]
    },
    {
     "name": "stdout",
     "output_type": "stream",
     "text": [
      " 60%|██████    | 6/10 [00:45<00:30,  7.68s/trial, best loss: 5.322386203535303]"
     ]
    },
    {
     "name": "stderr",
     "output_type": "stream",
     "text": [
      "2024/09/20 17:55:19 WARNING mlflow.sklearn: Failed to log training dataset information to MLflow Tracking. Reason: 'numpy.ndarray' object has no attribute 'toarray'\n",
      "\n",
      "2024/09/20 17:55:22 WARNING mlflow.utils.requirements_utils: Found lz4 version (4.0.2+dfsg) contains a local version label (+dfsg). MLflow logged a pip requirement for this package as 'lz4==4.0.2' without the local version label to make it installable from PyPI. To specify pip requirements containing local version labels, please use `conda_env` or `pip_requirements`.\n",
      "\n",
      "2024/09/20 17:55:25 WARNING mlflow.utils.autologging_utils: Encountered unexpected error during sklearn autologging: The following failures occurred while performing one or more logging operations: [MlflowException('Failed to perform one or more operations on the run with ID 11f92a59a1ef4f839d7b6a743eb39951. Failed operations: [RestException(\"INVALID_PARAMETER_VALUE: Response: {\\'error_code\\': \\'INVALID_PARAMETER_VALUE\\'}\")]')]\n",
      "\n",
      "2024/09/20 17:55:25 INFO mlflow.tracking._tracking_service.client: 🏃 View run selective-bat-264 at: https://dagshub.com/Pepe-Chuy/nyc-taxi-time-prediction.mlflow/#/experiments/0/runs/11f92a59a1ef4f839d7b6a743eb39951.\n",
      "\n",
      "2024/09/20 17:55:25 INFO mlflow.tracking._tracking_service.client: 🧪 View experiment at: https://dagshub.com/Pepe-Chuy/nyc-taxi-time-prediction.mlflow/#/experiments/0.\n",
      "\n"
     ]
    },
    {
     "name": "stdout",
     "output_type": "stream",
     "text": [
      " 70%|███████   | 7/10 [00:53<00:22,  7.54s/trial, best loss: 5.322386203535303]"
     ]
    },
    {
     "name": "stderr",
     "output_type": "stream",
     "text": [
      "2024/09/20 17:55:26 WARNING mlflow.sklearn: Failed to log training dataset information to MLflow Tracking. Reason: 'numpy.ndarray' object has no attribute 'toarray'\n",
      "\n",
      "2024/09/20 17:55:30 WARNING mlflow.utils.requirements_utils: Found lz4 version (4.0.2+dfsg) contains a local version label (+dfsg). MLflow logged a pip requirement for this package as 'lz4==4.0.2' without the local version label to make it installable from PyPI. To specify pip requirements containing local version labels, please use `conda_env` or `pip_requirements`.\n",
      "\n",
      "2024/09/20 17:55:32 WARNING mlflow.utils.autologging_utils: Encountered unexpected error during sklearn autologging: The following failures occurred while performing one or more logging operations: [MlflowException('Failed to perform one or more operations on the run with ID 2a1deb264a314f2697a427f01963fe50. Failed operations: [RestException(\"INVALID_PARAMETER_VALUE: Response: {\\'error_code\\': \\'INVALID_PARAMETER_VALUE\\'}\")]')]\n",
      "\n",
      "2024/09/20 17:55:33 INFO mlflow.tracking._tracking_service.client: 🏃 View run amazing-panda-182 at: https://dagshub.com/Pepe-Chuy/nyc-taxi-time-prediction.mlflow/#/experiments/0/runs/2a1deb264a314f2697a427f01963fe50.\n",
      "\n",
      "2024/09/20 17:55:33 INFO mlflow.tracking._tracking_service.client: 🧪 View experiment at: https://dagshub.com/Pepe-Chuy/nyc-taxi-time-prediction.mlflow/#/experiments/0.\n",
      "\n"
     ]
    },
    {
     "name": "stdout",
     "output_type": "stream",
     "text": [
      " 80%|████████  | 8/10 [01:00<00:15,  7.56s/trial, best loss: 5.322386203535303]"
     ]
    },
    {
     "name": "stderr",
     "output_type": "stream",
     "text": [
      "2024/09/20 17:55:34 WARNING mlflow.sklearn: Failed to log training dataset information to MLflow Tracking. Reason: 'numpy.ndarray' object has no attribute 'toarray'\n",
      "\n",
      "2024/09/20 17:55:37 WARNING mlflow.utils.requirements_utils: Found lz4 version (4.0.2+dfsg) contains a local version label (+dfsg). MLflow logged a pip requirement for this package as 'lz4==4.0.2' without the local version label to make it installable from PyPI. To specify pip requirements containing local version labels, please use `conda_env` or `pip_requirements`.\n",
      "\n",
      "2024/09/20 17:55:40 WARNING mlflow.utils.autologging_utils: Encountered unexpected error during sklearn autologging: The following failures occurred while performing one or more logging operations: [MlflowException('Failed to perform one or more operations on the run with ID 000d98b9050f401ea18073a13de398ef. Failed operations: [RestException(\"INVALID_PARAMETER_VALUE: Response: {\\'error_code\\': \\'INVALID_PARAMETER_VALUE\\'}\")]')]\n",
      "\n",
      "2024/09/20 17:55:40 INFO mlflow.tracking._tracking_service.client: 🏃 View run legendary-rat-404 at: https://dagshub.com/Pepe-Chuy/nyc-taxi-time-prediction.mlflow/#/experiments/0/runs/000d98b9050f401ea18073a13de398ef.\n",
      "\n",
      "2024/09/20 17:55:40 INFO mlflow.tracking._tracking_service.client: 🧪 View experiment at: https://dagshub.com/Pepe-Chuy/nyc-taxi-time-prediction.mlflow/#/experiments/0.\n",
      "\n"
     ]
    },
    {
     "name": "stdout",
     "output_type": "stream",
     "text": [
      " 90%|█████████ | 9/10 [01:07<00:07,  7.46s/trial, best loss: 5.322386203535303]"
     ]
    },
    {
     "name": "stderr",
     "output_type": "stream",
     "text": [
      "2024/09/20 17:55:41 WARNING mlflow.sklearn: Failed to log training dataset information to MLflow Tracking. Reason: 'numpy.ndarray' object has no attribute 'toarray'\n",
      "\n",
      "2024/09/20 17:55:44 WARNING mlflow.utils.requirements_utils: Found lz4 version (4.0.2+dfsg) contains a local version label (+dfsg). MLflow logged a pip requirement for this package as 'lz4==4.0.2' without the local version label to make it installable from PyPI. To specify pip requirements containing local version labels, please use `conda_env` or `pip_requirements`.\n",
      "\n",
      "2024/09/20 17:55:47 WARNING mlflow.utils.autologging_utils: Encountered unexpected error during sklearn autologging: The following failures occurred while performing one or more logging operations: [MlflowException('Failed to perform one or more operations on the run with ID 3178a69c93ed4cecb6045712b16c5639. Failed operations: [RestException(\"INVALID_PARAMETER_VALUE: Response: {\\'error_code\\': \\'INVALID_PARAMETER_VALUE\\'}\")]')]\n",
      "\n",
      "2024/09/20 17:55:47 INFO mlflow.tracking._tracking_service.client: 🏃 View run bemused-fox-231 at: https://dagshub.com/Pepe-Chuy/nyc-taxi-time-prediction.mlflow/#/experiments/0/runs/3178a69c93ed4cecb6045712b16c5639.\n",
      "\n",
      "2024/09/20 17:55:47 INFO mlflow.tracking._tracking_service.client: 🧪 View experiment at: https://dagshub.com/Pepe-Chuy/nyc-taxi-time-prediction.mlflow/#/experiments/0.\n",
      "\n"
     ]
    },
    {
     "name": "stdout",
     "output_type": "stream",
     "text": [
      "100%|██████████| 10/10 [01:14<00:00,  7.50s/trial, best loss: 5.322386203535303]\n"
     ]
    },
    {
     "name": "stderr",
     "output_type": "stream",
     "text": [
      "2024/09/20 17:55:48 INFO mlflow.tracking._tracking_service.client: 🏃 View run Father Random Forest Regressor at: https://dagshub.com/Pepe-Chuy/nyc-taxi-time-prediction.mlflow/#/experiments/0/runs/fb744d48590d4b239f5c77e4196642ac.\n",
      "2024/09/20 17:55:48 INFO mlflow.tracking._tracking_service.client: 🧪 View experiment at: https://dagshub.com/Pepe-Chuy/nyc-taxi-time-prediction.mlflow/#/experiments/0.\n"
     ]
    }
   ],
   "source": [
    "# hyperparameter optimization\n",
    "with mlflow.start_run(run_name=\"Father Random Forest Regressor\", nested=True):\n",
    "    best_params = fmin(\n",
    "        fn=objective,\n",
    "        space=search_space,\n",
    "        algo=tpe.suggest,\n",
    "        max_evals=10,\n",
    "        trials=Trials()\n",
    "    )\n",
    "    \n",
    "    # Log best model\n",
    "    mlflow.log_params(best_params)"
   ]
  },
  {
   "cell_type": "code",
   "execution_count": 64,
   "metadata": {},
   "outputs": [
    {
     "data": {
      "text/plain": [
       "{'max_depth': 10.0,\n",
       " 'min_samples_leaf': 5.0,\n",
       " 'min_samples_split': 4.0,\n",
       " 'n_estimators': 15.0}"
      ]
     },
     "execution_count": 64,
     "metadata": {},
     "output_type": "execute_result"
    }
   ],
   "source": [
    "best_params"
   ]
  },
  {
   "cell_type": "code",
   "execution_count": 66,
   "metadata": {},
   "outputs": [
    {
     "name": "stderr",
     "output_type": "stream",
     "text": [
      "Successfully registered model 'nyc-taxi-model-rf-march'.\n",
      "2024/09/20 17:59:27 INFO mlflow.store.model_registry.abstract_store: Waiting up to 300 seconds for model version to finish creation. Model name: nyc-taxi-model-rf-march, version 1\n",
      "Created version '1' of model 'nyc-taxi-model-rf-march'.\n"
     ]
    }
   ],
   "source": [
    "run_id = \"3427bbd42fed4b00a9ed8e89c99ca4a3\"\n",
    "run_uri = f\"runs:/{run_id}/model\"\n",
    " \n",
    "result = mlflow.register_model(\n",
    "    model_uri=run_uri,\n",
    "    name=\"nyc-taxi-model-rf-march\"\n",
    ")"
   ]
  },
  {
   "cell_type": "markdown",
   "metadata": {},
   "source": [
    "### GradientBoosting"
   ]
  },
  {
   "cell_type": "code",
   "execution_count": 67,
   "metadata": {},
   "outputs": [],
   "source": [
    "def objective_gb(params):\n",
    "    with mlflow.start_run(nested=True):\n",
    "        # Model family\n",
    "        mlflow.set_tag(\"model_family\", \"GradientBoosting\")\n",
    "        \n",
    "        # Log GB parameters\n",
    "        mlflow.log_params(params)\n",
    "        \n",
    "        # Train model\n",
    "        gb_model = gbr(\n",
    "            n_estimators=int(params['n_estimators']),\n",
    "            max_depth=int(params['max_depth']),\n",
    "            min_samples_split=int(params['min_samples_split']),\n",
    "            min_samples_leaf=int(params['min_samples_leaf']),\n",
    "            learning_rate=float(params['learning_rate']),\n",
    "            random_state=42\n",
    "        )\n",
    "        gb_model.fit(X_train, y_train)\n",
    "        \n",
    "        # Predict\n",
    "        y_pred = gb_model.predict(X_val)\n",
    "        \n",
    "        # RMSE\n",
    "        rmse = np.sqrt(mean_squared_error(y_val, y_pred))\n",
    "        \n",
    "        # Log RMSE\n",
    "        mlflow.log_metric(\"rmse\", rmse)\n",
    " \n",
    "    return {'loss': rmse, 'status': STATUS_OK}\n",
    " "
   ]
  },
  {
   "cell_type": "code",
   "execution_count": 68,
   "metadata": {},
   "outputs": [],
   "source": [
    "\n",
    "mlflow.sklearn.autolog()\n",
    "\n",
    "# PArams for gb\n",
    "search_space = {\n",
    "    'n_estimators': hp.quniform('n_estimators', 10, 30, 1),\n",
    "    'max_depth': hp.quniform('max_depth', 1, 3, 1),\n",
    "    'min_samples_split': hp.quniform('min_samples_split', 2, 5, 1),\n",
    "    'min_samples_leaf': hp.quniform('min_samples_leaf', 1, 4, 1),\n",
    "    'learning_rate': hp.uniform('learning_rate', 0.01, 0.1)\n",
    "}\n",
    " "
   ]
  },
  {
   "cell_type": "code",
   "execution_count": 69,
   "metadata": {},
   "outputs": [
    {
     "name": "stdout",
     "output_type": "stream",
     "text": [
      "  0%|          | 0/10 [00:00<?, ?trial/s, best loss=?]"
     ]
    },
    {
     "name": "stderr",
     "output_type": "stream",
     "text": [
      "2024/09/20 17:59:34 WARNING mlflow.sklearn: Failed to log training dataset information to MLflow Tracking. Reason: 'numpy.ndarray' object has no attribute 'toarray'\n",
      "\n",
      "2024/09/20 17:59:37 WARNING mlflow.utils.requirements_utils: Found lz4 version (4.0.2+dfsg) contains a local version label (+dfsg). MLflow logged a pip requirement for this package as 'lz4==4.0.2' without the local version label to make it installable from PyPI. To specify pip requirements containing local version labels, please use `conda_env` or `pip_requirements`.\n",
      "\n",
      "2024/09/20 17:59:39 WARNING mlflow.utils.autologging_utils: Encountered unexpected error during sklearn autologging: The following failures occurred while performing one or more logging operations: [MlflowException('Failed to perform one or more operations on the run with ID d5a37dfd0d754b868a421e5182ce1064. Failed operations: [RestException(\"INVALID_PARAMETER_VALUE: Response: {\\'error_code\\': \\'INVALID_PARAMETER_VALUE\\'}\")]')]\n",
      "\n",
      "2024/09/20 17:59:40 INFO mlflow.tracking._tracking_service.client: 🏃 View run zealous-foal-510 at: https://dagshub.com/Pepe-Chuy/nyc-taxi-time-prediction.mlflow/#/experiments/0/runs/d5a37dfd0d754b868a421e5182ce1064.\n",
      "\n",
      "2024/09/20 17:59:40 INFO mlflow.tracking._tracking_service.client: 🧪 View experiment at: https://dagshub.com/Pepe-Chuy/nyc-taxi-time-prediction.mlflow/#/experiments/0.\n",
      "\n"
     ]
    },
    {
     "name": "stdout",
     "output_type": "stream",
     "text": [
      " 10%|█         | 1/10 [00:06<01:02,  6.92s/trial, best loss: 6.631532375674564]"
     ]
    },
    {
     "name": "stderr",
     "output_type": "stream",
     "text": [
      "2024/09/20 17:59:41 WARNING mlflow.sklearn: Failed to log training dataset information to MLflow Tracking. Reason: 'numpy.ndarray' object has no attribute 'toarray'\n",
      "\n",
      "2024/09/20 17:59:44 WARNING mlflow.utils.requirements_utils: Found lz4 version (4.0.2+dfsg) contains a local version label (+dfsg). MLflow logged a pip requirement for this package as 'lz4==4.0.2' without the local version label to make it installable from PyPI. To specify pip requirements containing local version labels, please use `conda_env` or `pip_requirements`.\n",
      "\n",
      "2024/09/20 17:59:47 WARNING mlflow.utils.autologging_utils: Encountered unexpected error during sklearn autologging: The following failures occurred while performing one or more logging operations: [MlflowException('Failed to perform one or more operations on the run with ID ea5cf49503b1401288905133949a81ad. Failed operations: [RestException(\"INVALID_PARAMETER_VALUE: Response: {\\'error_code\\': \\'INVALID_PARAMETER_VALUE\\'}\")]')]\n",
      "\n",
      "2024/09/20 17:59:47 INFO mlflow.tracking._tracking_service.client: 🏃 View run illustrious-swan-533 at: https://dagshub.com/Pepe-Chuy/nyc-taxi-time-prediction.mlflow/#/experiments/0/runs/ea5cf49503b1401288905133949a81ad.\n",
      "\n",
      "2024/09/20 17:59:47 INFO mlflow.tracking._tracking_service.client: 🧪 View experiment at: https://dagshub.com/Pepe-Chuy/nyc-taxi-time-prediction.mlflow/#/experiments/0.\n",
      "\n"
     ]
    },
    {
     "name": "stdout",
     "output_type": "stream",
     "text": [
      " 20%|██        | 2/10 [00:14<00:57,  7.19s/trial, best loss: 6.631532375674564]"
     ]
    },
    {
     "name": "stderr",
     "output_type": "stream",
     "text": [
      "2024/09/20 17:59:49 WARNING mlflow.sklearn: Failed to log training dataset information to MLflow Tracking. Reason: 'numpy.ndarray' object has no attribute 'toarray'\n",
      "\n",
      "2024/09/20 17:59:51 WARNING mlflow.utils.requirements_utils: Found lz4 version (4.0.2+dfsg) contains a local version label (+dfsg). MLflow logged a pip requirement for this package as 'lz4==4.0.2' without the local version label to make it installable from PyPI. To specify pip requirements containing local version labels, please use `conda_env` or `pip_requirements`.\n",
      "\n",
      "2024/09/20 17:59:54 WARNING mlflow.utils.autologging_utils: Encountered unexpected error during sklearn autologging: The following failures occurred while performing one or more logging operations: [MlflowException('Failed to perform one or more operations on the run with ID 0b19caf6fdb24cd8922b55ba3f4f1acc. Failed operations: [RestException(\"INVALID_PARAMETER_VALUE: Response: {\\'error_code\\': \\'INVALID_PARAMETER_VALUE\\'}\")]')]\n",
      "\n",
      "2024/09/20 17:59:54 INFO mlflow.tracking._tracking_service.client: 🏃 View run orderly-grouse-974 at: https://dagshub.com/Pepe-Chuy/nyc-taxi-time-prediction.mlflow/#/experiments/0/runs/0b19caf6fdb24cd8922b55ba3f4f1acc.\n",
      "\n",
      "2024/09/20 17:59:54 INFO mlflow.tracking._tracking_service.client: 🧪 View experiment at: https://dagshub.com/Pepe-Chuy/nyc-taxi-time-prediction.mlflow/#/experiments/0.\n",
      "\n"
     ]
    },
    {
     "name": "stdout",
     "output_type": "stream",
     "text": [
      " 30%|███       | 3/10 [00:21<00:50,  7.18s/trial, best loss: 5.8390128802759556]"
     ]
    },
    {
     "name": "stderr",
     "output_type": "stream",
     "text": [
      "2024/09/20 17:59:56 WARNING mlflow.sklearn: Failed to log training dataset information to MLflow Tracking. Reason: 'numpy.ndarray' object has no attribute 'toarray'\n",
      "\n",
      "2024/09/20 17:59:58 WARNING mlflow.utils.requirements_utils: Found lz4 version (4.0.2+dfsg) contains a local version label (+dfsg). MLflow logged a pip requirement for this package as 'lz4==4.0.2' without the local version label to make it installable from PyPI. To specify pip requirements containing local version labels, please use `conda_env` or `pip_requirements`.\n",
      "\n",
      "2024/09/20 18:00:01 WARNING mlflow.utils.autologging_utils: Encountered unexpected error during sklearn autologging: The following failures occurred while performing one or more logging operations: [MlflowException('Failed to perform one or more operations on the run with ID a5e691b431704239a20707835875eee5. Failed operations: [RestException(\"INVALID_PARAMETER_VALUE: Response: {\\'error_code\\': \\'INVALID_PARAMETER_VALUE\\'}\")]')]\n",
      "\n",
      "2024/09/20 18:00:01 INFO mlflow.tracking._tracking_service.client: 🏃 View run luxuriant-rat-293 at: https://dagshub.com/Pepe-Chuy/nyc-taxi-time-prediction.mlflow/#/experiments/0/runs/a5e691b431704239a20707835875eee5.\n",
      "\n",
      "2024/09/20 18:00:01 INFO mlflow.tracking._tracking_service.client: 🧪 View experiment at: https://dagshub.com/Pepe-Chuy/nyc-taxi-time-prediction.mlflow/#/experiments/0.\n",
      "\n"
     ]
    },
    {
     "name": "stdout",
     "output_type": "stream",
     "text": [
      " 40%|████      | 4/10 [00:28<00:42,  7.05s/trial, best loss: 5.8390128802759556]"
     ]
    },
    {
     "name": "stderr",
     "output_type": "stream",
     "text": [
      "2024/09/20 18:00:02 WARNING mlflow.sklearn: Failed to log training dataset information to MLflow Tracking. Reason: 'numpy.ndarray' object has no attribute 'toarray'\n",
      "\n",
      "2024/09/20 18:00:05 WARNING mlflow.utils.requirements_utils: Found lz4 version (4.0.2+dfsg) contains a local version label (+dfsg). MLflow logged a pip requirement for this package as 'lz4==4.0.2' without the local version label to make it installable from PyPI. To specify pip requirements containing local version labels, please use `conda_env` or `pip_requirements`.\n",
      "\n",
      "2024/09/20 18:00:08 WARNING mlflow.utils.autologging_utils: Encountered unexpected error during sklearn autologging: The following failures occurred while performing one or more logging operations: [MlflowException('Failed to perform one or more operations on the run with ID 4159bea0eca940609ae1f56df81237c5. Failed operations: [RestException(\"INVALID_PARAMETER_VALUE: Response: {\\'error_code\\': \\'INVALID_PARAMETER_VALUE\\'}\")]')]\n",
      "\n",
      "2024/09/20 18:00:09 INFO mlflow.tracking._tracking_service.client: 🏃 View run rogue-crane-931 at: https://dagshub.com/Pepe-Chuy/nyc-taxi-time-prediction.mlflow/#/experiments/0/runs/4159bea0eca940609ae1f56df81237c5.\n",
      "\n",
      "2024/09/20 18:00:09 INFO mlflow.tracking._tracking_service.client: 🧪 View experiment at: https://dagshub.com/Pepe-Chuy/nyc-taxi-time-prediction.mlflow/#/experiments/0.\n",
      "\n"
     ]
    },
    {
     "name": "stdout",
     "output_type": "stream",
     "text": [
      " 50%|█████     | 5/10 [00:35<00:35,  7.17s/trial, best loss: 5.8390128802759556]"
     ]
    },
    {
     "name": "stderr",
     "output_type": "stream",
     "text": [
      "2024/09/20 18:00:10 WARNING mlflow.sklearn: Failed to log training dataset information to MLflow Tracking. Reason: 'numpy.ndarray' object has no attribute 'toarray'\n",
      "\n",
      "2024/09/20 18:00:12 WARNING mlflow.utils.requirements_utils: Found lz4 version (4.0.2+dfsg) contains a local version label (+dfsg). MLflow logged a pip requirement for this package as 'lz4==4.0.2' without the local version label to make it installable from PyPI. To specify pip requirements containing local version labels, please use `conda_env` or `pip_requirements`.\n",
      "\n",
      "2024/09/20 18:00:15 WARNING mlflow.utils.autologging_utils: Encountered unexpected error during sklearn autologging: The following failures occurred while performing one or more logging operations: [MlflowException('Failed to perform one or more operations on the run with ID d6d633859d344560918a40692f2b36e3. Failed operations: [RestException(\"INVALID_PARAMETER_VALUE: Response: {\\'error_code\\': \\'INVALID_PARAMETER_VALUE\\'}\")]')]\n",
      "\n",
      "2024/09/20 18:00:16 INFO mlflow.tracking._tracking_service.client: 🏃 View run lyrical-carp-278 at: https://dagshub.com/Pepe-Chuy/nyc-taxi-time-prediction.mlflow/#/experiments/0/runs/d6d633859d344560918a40692f2b36e3.\n",
      "\n",
      "2024/09/20 18:00:16 INFO mlflow.tracking._tracking_service.client: 🧪 View experiment at: https://dagshub.com/Pepe-Chuy/nyc-taxi-time-prediction.mlflow/#/experiments/0.\n",
      "\n"
     ]
    },
    {
     "name": "stdout",
     "output_type": "stream",
     "text": [
      " 60%|██████    | 6/10 [00:42<00:28,  7.10s/trial, best loss: 5.8390128802759556]"
     ]
    },
    {
     "name": "stderr",
     "output_type": "stream",
     "text": [
      "2024/09/20 18:00:17 WARNING mlflow.sklearn: Failed to log training dataset information to MLflow Tracking. Reason: 'numpy.ndarray' object has no attribute 'toarray'\n",
      "\n",
      "2024/09/20 18:00:20 WARNING mlflow.utils.requirements_utils: Found lz4 version (4.0.2+dfsg) contains a local version label (+dfsg). MLflow logged a pip requirement for this package as 'lz4==4.0.2' without the local version label to make it installable from PyPI. To specify pip requirements containing local version labels, please use `conda_env` or `pip_requirements`.\n",
      "\n",
      "2024/09/20 18:00:22 WARNING mlflow.utils.autologging_utils: Encountered unexpected error during sklearn autologging: The following failures occurred while performing one or more logging operations: [MlflowException('Failed to perform one or more operations on the run with ID 1bfff9dcc0744d22bbed1d75338c2e58. Failed operations: [RestException(\"INVALID_PARAMETER_VALUE: Response: {\\'error_code\\': \\'INVALID_PARAMETER_VALUE\\'}\")]')]\n",
      "\n",
      "2024/09/20 18:00:23 INFO mlflow.tracking._tracking_service.client: 🏃 View run rumbling-ant-591 at: https://dagshub.com/Pepe-Chuy/nyc-taxi-time-prediction.mlflow/#/experiments/0/runs/1bfff9dcc0744d22bbed1d75338c2e58.\n",
      "\n",
      "2024/09/20 18:00:23 INFO mlflow.tracking._tracking_service.client: 🧪 View experiment at: https://dagshub.com/Pepe-Chuy/nyc-taxi-time-prediction.mlflow/#/experiments/0.\n",
      "\n"
     ]
    },
    {
     "name": "stdout",
     "output_type": "stream",
     "text": [
      " 70%|███████   | 7/10 [00:49<00:21,  7.12s/trial, best loss: 5.8390128802759556]"
     ]
    },
    {
     "name": "stderr",
     "output_type": "stream",
     "text": [
      "2024/09/20 18:00:24 WARNING mlflow.sklearn: Failed to log training dataset information to MLflow Tracking. Reason: 'numpy.ndarray' object has no attribute 'toarray'\n",
      "\n",
      "2024/09/20 18:00:27 WARNING mlflow.utils.requirements_utils: Found lz4 version (4.0.2+dfsg) contains a local version label (+dfsg). MLflow logged a pip requirement for this package as 'lz4==4.0.2' without the local version label to make it installable from PyPI. To specify pip requirements containing local version labels, please use `conda_env` or `pip_requirements`.\n",
      "\n",
      "2024/09/20 18:00:30 WARNING mlflow.utils.autologging_utils: Encountered unexpected error during sklearn autologging: The following failures occurred while performing one or more logging operations: [MlflowException('Failed to perform one or more operations on the run with ID 9eeb42d968d24e0290a806e1aded3cf1. Failed operations: [RestException(\"INVALID_PARAMETER_VALUE: Response: {\\'error_code\\': \\'INVALID_PARAMETER_VALUE\\'}\")]')]\n",
      "\n",
      "2024/09/20 18:00:30 INFO mlflow.tracking._tracking_service.client: 🏃 View run fun-dove-710 at: https://dagshub.com/Pepe-Chuy/nyc-taxi-time-prediction.mlflow/#/experiments/0/runs/9eeb42d968d24e0290a806e1aded3cf1.\n",
      "\n",
      "2024/09/20 18:00:30 INFO mlflow.tracking._tracking_service.client: 🧪 View experiment at: https://dagshub.com/Pepe-Chuy/nyc-taxi-time-prediction.mlflow/#/experiments/0.\n",
      "\n"
     ]
    },
    {
     "name": "stdout",
     "output_type": "stream",
     "text": [
      " 80%|████████  | 8/10 [00:57<00:14,  7.31s/trial, best loss: 5.8390128802759556]"
     ]
    },
    {
     "name": "stderr",
     "output_type": "stream",
     "text": [
      "2024/09/20 18:00:32 WARNING mlflow.sklearn: Failed to log training dataset information to MLflow Tracking. Reason: 'numpy.ndarray' object has no attribute 'toarray'\n",
      "\n",
      "2024/09/20 18:00:35 WARNING mlflow.utils.requirements_utils: Found lz4 version (4.0.2+dfsg) contains a local version label (+dfsg). MLflow logged a pip requirement for this package as 'lz4==4.0.2' without the local version label to make it installable from PyPI. To specify pip requirements containing local version labels, please use `conda_env` or `pip_requirements`.\n",
      "\n",
      "2024/09/20 18:00:37 WARNING mlflow.utils.autologging_utils: Encountered unexpected error during sklearn autologging: The following failures occurred while performing one or more logging operations: [MlflowException('Failed to perform one or more operations on the run with ID f4f1515ee0de4daaa469d5f1699900c4. Failed operations: [RestException(\"INVALID_PARAMETER_VALUE: Response: {\\'error_code\\': \\'INVALID_PARAMETER_VALUE\\'}\")]')]\n",
      "\n",
      "2024/09/20 18:00:38 INFO mlflow.tracking._tracking_service.client: 🏃 View run stylish-crab-722 at: https://dagshub.com/Pepe-Chuy/nyc-taxi-time-prediction.mlflow/#/experiments/0/runs/f4f1515ee0de4daaa469d5f1699900c4.\n",
      "\n",
      "2024/09/20 18:00:38 INFO mlflow.tracking._tracking_service.client: 🧪 View experiment at: https://dagshub.com/Pepe-Chuy/nyc-taxi-time-prediction.mlflow/#/experiments/0.\n",
      "\n"
     ]
    },
    {
     "name": "stdout",
     "output_type": "stream",
     "text": [
      " 90%|█████████ | 9/10 [01:04<00:07,  7.27s/trial, best loss: 5.8390128802759556]"
     ]
    },
    {
     "name": "stderr",
     "output_type": "stream",
     "text": [
      "2024/09/20 18:00:39 WARNING mlflow.sklearn: Failed to log training dataset information to MLflow Tracking. Reason: 'numpy.ndarray' object has no attribute 'toarray'\n",
      "\n",
      "2024/09/20 18:00:42 WARNING mlflow.utils.requirements_utils: Found lz4 version (4.0.2+dfsg) contains a local version label (+dfsg). MLflow logged a pip requirement for this package as 'lz4==4.0.2' without the local version label to make it installable from PyPI. To specify pip requirements containing local version labels, please use `conda_env` or `pip_requirements`.\n",
      "\n",
      "2024/09/20 18:00:45 WARNING mlflow.utils.autologging_utils: Encountered unexpected error during sklearn autologging: The following failures occurred while performing one or more logging operations: [MlflowException('Failed to perform one or more operations on the run with ID 41a9da234b624bec80de2080e80b0e89. Failed operations: [RestException(\"INVALID_PARAMETER_VALUE: Response: {\\'error_code\\': \\'INVALID_PARAMETER_VALUE\\'}\")]')]\n",
      "\n",
      "2024/09/20 18:00:45 INFO mlflow.tracking._tracking_service.client: 🏃 View run casual-mule-685 at: https://dagshub.com/Pepe-Chuy/nyc-taxi-time-prediction.mlflow/#/experiments/0/runs/41a9da234b624bec80de2080e80b0e89.\n",
      "\n",
      "2024/09/20 18:00:45 INFO mlflow.tracking._tracking_service.client: 🧪 View experiment at: https://dagshub.com/Pepe-Chuy/nyc-taxi-time-prediction.mlflow/#/experiments/0.\n",
      "\n"
     ]
    },
    {
     "name": "stdout",
     "output_type": "stream",
     "text": [
      "100%|██████████| 10/10 [01:12<00:00,  7.23s/trial, best loss: 5.8390128802759556]\n"
     ]
    },
    {
     "name": "stderr",
     "output_type": "stream",
     "text": [
      "2024/09/20 18:00:46 INFO mlflow.tracking._tracking_service.client: 🏃 View run Father Gradient Boosting at: https://dagshub.com/Pepe-Chuy/nyc-taxi-time-prediction.mlflow/#/experiments/0/runs/bb9183ba2dfc4ef0908276491158e4ae.\n",
      "2024/09/20 18:00:46 INFO mlflow.tracking._tracking_service.client: 🧪 View experiment at: https://dagshub.com/Pepe-Chuy/nyc-taxi-time-prediction.mlflow/#/experiments/0.\n"
     ]
    }
   ],
   "source": [
    "# hyperparameter optimization\n",
    "with mlflow.start_run(run_name=\"Father Gradient Boosting\", nested=True):\n",
    "    best_params = fmin(\n",
    "        fn=objective_gb,\n",
    "        space=search_space,\n",
    "        algo=tpe.suggest,\n",
    "        max_evals=10,\n",
    "        trials=Trials()\n",
    "    )\n",
    "    \n",
    "    # Log best model\n",
    "    mlflow.log_params(best_params)"
   ]
  },
  {
   "cell_type": "code",
   "execution_count": 76,
   "metadata": {},
   "outputs": [
    {
     "name": "stderr",
     "output_type": "stream",
     "text": [
      "Successfully registered model 'nyc-taxi-mode-won-timermse'.\n",
      "2024/09/20 18:13:24 INFO mlflow.store.model_registry.abstract_store: Waiting up to 300 seconds for model version to finish creation. Model name: nyc-taxi-mode-won-timermse, version 1\n",
      "Created version '1' of model 'nyc-taxi-mode-won-timermse'.\n"
     ]
    }
   ],
   "source": [
    "run_id = \"000d98b9050f401ea18073a13de398ef\"\n",
    "run_uri = f\"runs:/{run_id}/model\"\n",
    " \n",
    "result = mlflow.register_model(\n",
    "    model_uri=run_uri,\n",
    "    name=\"nyc-taxi-mode-won-timermse\"\n",
    ")"
   ]
  },
  {
   "cell_type": "markdown",
   "metadata": {},
   "source": [
    "# Winner\n",
    "\n",
    "Finally, the champion was \"000d98b9050f401ea18073a13de398ef,\" better known as \"nyc-taxi-mode-won-timermse.\" Although its RMSE may not be the global best, it receives a downgrade based on the best one according to the time it took to run. Nevertheless, this model had the best overall performance.\n",
    "\n",
    "If time didn’t matter, the champion would be \"nyc-taxi-mode-gbl\" V4."
   ]
  }
 ],
 "metadata": {
  "kernelspec": {
   "display_name": "Python 3",
   "language": "python",
   "name": "python3"
  },
  "language_info": {
   "codemirror_mode": {
    "name": "ipython",
    "version": 3
   },
   "file_extension": ".py",
   "mimetype": "text/x-python",
   "name": "python",
   "nbconvert_exporter": "python",
   "pygments_lexer": "ipython3",
   "version": "3.12.3"
  }
 },
 "nbformat": 4,
 "nbformat_minor": 2
}
