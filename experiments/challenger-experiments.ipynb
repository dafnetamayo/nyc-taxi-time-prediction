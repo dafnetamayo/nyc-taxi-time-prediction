{
 "cells": [
  {
   "cell_type": "code",
   "execution_count": 1,
   "metadata": {},
   "outputs": [],
   "source": [
    "import pickle\n",
    "import pandas as pd\n",
    "from sklearn.metrics import  root_mean_squared_error\n",
    "from sklearn.feature_extraction import  DictVectorizer\n",
    "from sklearn.linear_model import Lasso, Ridge, LinearRegression"
   ]
  },
  {
   "cell_type": "code",
   "execution_count": 2,
   "metadata": {},
   "outputs": [],
   "source": [
    "def read_dataframe(filename):\n",
    "\n",
    "    df = pd.read_parquet(filename)\n",
    "\n",
    "    df['duration'] = df.lpep_dropoff_datetime - df.lpep_pickup_datetime\n",
    "    df.duration = df.duration.apply(lambda td: td.total_seconds() / 60)\n",
    "\n",
    "    df = df[(df.duration >= 1) & (df.duration <= 60)]\n",
    "\n",
    "    categorical = ['PULocationID', 'DOLocationID']\n",
    "    df[categorical] = df[categorical].astype(str)\n",
    "\n",
    "    return df"
   ]
  },
  {
   "cell_type": "code",
   "execution_count": 3,
   "metadata": {},
   "outputs": [],
   "source": [
    "df_train = read_dataframe('../data/green_tripdata_2024-01.parquet')\n",
    "df_val = read_dataframe('../data/green_tripdata_2024-02.parquet')"
   ]
  },
  {
   "cell_type": "code",
   "execution_count": 4,
   "metadata": {},
   "outputs": [],
   "source": [
    "df_train['PU_DO'] = df_train['PULocationID'] + '_' + df_train['DOLocationID']\n",
    "df_val['PU_DO'] = df_val['PULocationID'] + '_' + df_val['DOLocationID']"
   ]
  },
  {
   "cell_type": "code",
   "execution_count": 5,
   "metadata": {},
   "outputs": [],
   "source": [
    "categorical = ['PU_DO']  #'PULocationID', 'DOLocationID']\n",
    "numerical = ['trip_distance']\n",
    "dv = DictVectorizer()\n",
    "\n",
    "train_dicts = df_train[categorical + numerical].to_dict(orient='records')\n",
    "X_train = dv.fit_transform(train_dicts)\n",
    "\n",
    "val_dicts = df_val[categorical + numerical].to_dict(orient='records')\n",
    "X_val = dv.transform(val_dicts)"
   ]
  },
  {
   "cell_type": "code",
   "execution_count": 6,
   "metadata": {},
   "outputs": [],
   "source": [
    "target = 'duration'\n",
    "y_train = df_train[target].values\n",
    "y_val = df_val[target].values"
   ]
  },
  {
   "cell_type": "code",
   "execution_count": 7,
   "metadata": {},
   "outputs": [
    {
     "data": {
      "text/html": [
       "<pre style=\"white-space:pre;overflow-x:auto;line-height:normal;font-family:Menlo,'DejaVu Sans Mono',consolas,'Courier New',monospace\">Accessing as dafnetamayo\n",
       "</pre>\n"
      ],
      "text/plain": [
       "Accessing as dafnetamayo\n"
      ]
     },
     "metadata": {},
     "output_type": "display_data"
    },
    {
     "data": {
      "text/html": [
       "<pre style=\"white-space:pre;overflow-x:auto;line-height:normal;font-family:Menlo,'DejaVu Sans Mono',consolas,'Courier New',monospace\">Initialized MLflow to track repo <span style=\"color: #008000; text-decoration-color: #008000\">\"dafnetamayo/nyc-taxi-time-prediction\"</span>\n",
       "</pre>\n"
      ],
      "text/plain": [
       "Initialized MLflow to track repo \u001b[32m\"dafnetamayo/nyc-taxi-time-prediction\"\u001b[0m\n"
      ]
     },
     "metadata": {},
     "output_type": "display_data"
    },
    {
     "data": {
      "text/html": [
       "<pre style=\"white-space:pre;overflow-x:auto;line-height:normal;font-family:Menlo,'DejaVu Sans Mono',consolas,'Courier New',monospace\">Repository dafnetamayo/nyc-taxi-time-prediction initialized!\n",
       "</pre>\n"
      ],
      "text/plain": [
       "Repository dafnetamayo/nyc-taxi-time-prediction initialized!\n"
      ]
     },
     "metadata": {},
     "output_type": "display_data"
    },
    {
     "name": "stdout",
     "output_type": "stream",
     "text": [
      "https://dagshub.com/dafnetamayo/nyc-taxi-time-prediction.mlflow\n"
     ]
    },
    {
     "data": {
      "text/plain": [
       "<Experiment: artifact_location='mlflow-artifacts:/5b5314a67f894d4d9aa944625869aa1c', creation_time=1726630094011, experiment_id='0', last_update_time=1726630094011, lifecycle_stage='active', name='nyc-taxi-experiment', tags={}>"
      ]
     },
     "execution_count": 7,
     "metadata": {},
     "output_type": "execute_result"
    }
   ],
   "source": [
    "import dagshub\n",
    "import mlflow\n",
    "\n",
    "\n",
    "dagshub.init(url=\"https://dagshub.com/dafnetamayo/nyc-taxi-time-prediction\", mlflow=True)\n",
    "\n",
    "MLFLOW_TRACKING_URI = mlflow.get_tracking_uri()\n",
    "\n",
    "print(MLFLOW_TRACKING_URI)\n",
    "\n",
    "mlflow.set_tracking_uri(MLFLOW_TRACKING_URI)\n",
    "mlflow.set_experiment(experiment_name=\"nyc-taxi-experiment\")"
   ]
  },
  {
   "cell_type": "code",
   "execution_count": 8,
   "metadata": {},
   "outputs": [],
   "source": [
    "training_dataset = mlflow.data.from_numpy(X_train.data, targets=y_train, name=\"green_tripdata_2024-01\")\n",
    "validation_dataset = mlflow.data.from_numpy(X_val.data, targets=y_val, name=\"green_tripdata_2024-02\")\n"
   ]
  },
  {
   "cell_type": "code",
   "execution_count": 9,
   "metadata": {},
   "outputs": [],
   "source": [
    "from sklearn.metrics import  root_mean_squared_error\n",
    "from sklearn.feature_extraction import  DictVectorizer\n",
    "from sklearn.linear_model import Lasso, Ridge, LinearRegression\n",
    "from sklearn.ensemble import RandomForestRegressor\n",
    "from sklearn.metrics import mean_squared_error\n",
    "from hyperopt import fmin, tpe, hp, STATUS_OK, Trials\n",
    "import numpy as np"
   ]
  },
  {
   "cell_type": "markdown",
   "metadata": {},
   "source": [
    "## Random forest"
   ]
  },
  {
   "cell_type": "code",
   "execution_count": 10,
   "metadata": {},
   "outputs": [
    {
     "name": "stderr",
     "output_type": "stream",
     "text": [
      "2024/09/20 15:44:43 WARNING mlflow.utils.autologging_utils: MLflow sklearn autologging is known to be compatible with 0.24.1 <= scikit-learn <= 1.5.1, but the installed version is 1.5.2. If you encounter errors during autologging, try upgrading / downgrading scikit-learn to a compatible version, or try upgrading MLflow.\n"
     ]
    },
    {
     "name": "stdout",
     "output_type": "stream",
     "text": [
      "  0%|          | 0/10 [00:00<?, ?trial/s, best loss=?]"
     ]
    },
    {
     "name": "stderr",
     "output_type": "stream",
     "text": [
      "2024/09/20 15:44:46 WARNING mlflow.sklearn: Failed to log training dataset information to MLflow Tracking. Reason: 'numpy.ndarray' object has no attribute 'toarray'\n",
      "\n",
      "2024/09/20 15:45:03 WARNING mlflow.utils.autologging_utils: Encountered unexpected error during sklearn autologging: The following failures occurred while performing one or more logging operations: [MlflowException('Failed to perform one or more operations on the run with ID d6c0ce2c1f414c7980e59b932355b1c8. Failed operations: [RestException(\"INVALID_PARAMETER_VALUE: Response: {\\'error_code\\': \\'INVALID_PARAMETER_VALUE\\'}\")]')]\n",
      "\n",
      "2024/09/20 15:45:04 INFO mlflow.tracking._tracking_service.client: 🏃 View run welcoming-stork-952 at: https://dagshub.com/dafnetamayo/nyc-taxi-time-prediction.mlflow/#/experiments/0/runs/d6c0ce2c1f414c7980e59b932355b1c8.\n",
      "\n",
      "2024/09/20 15:45:04 INFO mlflow.tracking._tracking_service.client: 🧪 View experiment at: https://dagshub.com/dafnetamayo/nyc-taxi-time-prediction.mlflow/#/experiments/0.\n",
      "\n"
     ]
    },
    {
     "name": "stdout",
     "output_type": "stream",
     "text": [
      " 10%|█         | 1/10 [00:18<02:46, 18.48s/trial, best loss: 5.421237858812696]"
     ]
    },
    {
     "name": "stderr",
     "output_type": "stream",
     "text": [
      "2024/09/20 15:45:05 WARNING mlflow.sklearn: Failed to log training dataset information to MLflow Tracking. Reason: 'numpy.ndarray' object has no attribute 'toarray'\n",
      "\n",
      "2024/09/20 15:45:12 WARNING mlflow.utils.autologging_utils: Encountered unexpected error during sklearn autologging: The following failures occurred while performing one or more logging operations: [MlflowException('Failed to perform one or more operations on the run with ID a9c71dc53e2841749ece654deb960d5d. Failed operations: [RestException(\"INVALID_PARAMETER_VALUE: Response: {\\'error_code\\': \\'INVALID_PARAMETER_VALUE\\'}\")]')]\n",
      "\n",
      "2024/09/20 15:45:12 INFO mlflow.tracking._tracking_service.client: 🏃 View run adorable-fox-777 at: https://dagshub.com/dafnetamayo/nyc-taxi-time-prediction.mlflow/#/experiments/0/runs/a9c71dc53e2841749ece654deb960d5d.\n",
      "\n",
      "2024/09/20 15:45:12 INFO mlflow.tracking._tracking_service.client: 🧪 View experiment at: https://dagshub.com/dafnetamayo/nyc-taxi-time-prediction.mlflow/#/experiments/0.\n",
      "\n"
     ]
    },
    {
     "name": "stdout",
     "output_type": "stream",
     "text": [
      " 20%|██        | 2/10 [00:26<01:40, 12.54s/trial, best loss: 5.421237858812696]"
     ]
    },
    {
     "name": "stderr",
     "output_type": "stream",
     "text": [
      "2024/09/20 15:45:13 WARNING mlflow.sklearn: Failed to log training dataset information to MLflow Tracking. Reason: 'numpy.ndarray' object has no attribute 'toarray'\n",
      "\n",
      "2024/09/20 15:45:31 WARNING mlflow.utils.autologging_utils: Encountered unexpected error during sklearn autologging: The following failures occurred while performing one or more logging operations: [MlflowException('Failed to perform one or more operations on the run with ID f17a0a97254c492b93fe6f84e1d67c33. Failed operations: [RestException(\"INVALID_PARAMETER_VALUE: Response: {\\'error_code\\': \\'INVALID_PARAMETER_VALUE\\'}\")]')]\n",
      "\n",
      "2024/09/20 15:45:32 INFO mlflow.tracking._tracking_service.client: 🏃 View run indecisive-crab-140 at: https://dagshub.com/dafnetamayo/nyc-taxi-time-prediction.mlflow/#/experiments/0/runs/f17a0a97254c492b93fe6f84e1d67c33.\n",
      "\n",
      "2024/09/20 15:45:32 INFO mlflow.tracking._tracking_service.client: 🧪 View experiment at: https://dagshub.com/dafnetamayo/nyc-taxi-time-prediction.mlflow/#/experiments/0.\n",
      "\n"
     ]
    },
    {
     "name": "stdout",
     "output_type": "stream",
     "text": [
      " 30%|███       | 3/10 [00:46<01:50, 15.81s/trial, best loss: 5.421237858812696]"
     ]
    },
    {
     "name": "stderr",
     "output_type": "stream",
     "text": [
      "2024/09/20 15:45:33 WARNING mlflow.sklearn: Failed to log training dataset information to MLflow Tracking. Reason: 'numpy.ndarray' object has no attribute 'toarray'\n",
      "\n",
      "2024/09/20 15:45:44 WARNING mlflow.utils.autologging_utils: Encountered unexpected error during sklearn autologging: The following failures occurred while performing one or more logging operations: [MlflowException('Failed to perform one or more operations on the run with ID 599acd3b370d4905bb814244699eb544. Failed operations: [RestException(\"INVALID_PARAMETER_VALUE: Response: {\\'error_code\\': \\'INVALID_PARAMETER_VALUE\\'}\")]')]\n",
      "\n",
      "2024/09/20 15:45:45 INFO mlflow.tracking._tracking_service.client: 🏃 View run wistful-midge-240 at: https://dagshub.com/dafnetamayo/nyc-taxi-time-prediction.mlflow/#/experiments/0/runs/599acd3b370d4905bb814244699eb544.\n",
      "\n",
      "2024/09/20 15:45:45 INFO mlflow.tracking._tracking_service.client: 🧪 View experiment at: https://dagshub.com/dafnetamayo/nyc-taxi-time-prediction.mlflow/#/experiments/0.\n",
      "\n"
     ]
    },
    {
     "name": "stdout",
     "output_type": "stream",
     "text": [
      " 40%|████      | 4/10 [00:59<01:27, 14.64s/trial, best loss: 5.421237858812696]"
     ]
    },
    {
     "name": "stderr",
     "output_type": "stream",
     "text": [
      "2024/09/20 15:45:46 WARNING mlflow.sklearn: Failed to log training dataset information to MLflow Tracking. Reason: 'numpy.ndarray' object has no attribute 'toarray'\n",
      "\n",
      "2024/09/20 15:45:55 WARNING mlflow.utils.autologging_utils: Encountered unexpected error during sklearn autologging: The following failures occurred while performing one or more logging operations: [MlflowException('Failed to perform one or more operations on the run with ID e8ebb2ef3f2c43ecb202224f1bf565be. Failed operations: [RestException(\"INVALID_PARAMETER_VALUE: Response: {\\'error_code\\': \\'INVALID_PARAMETER_VALUE\\'}\")]')]\n",
      "\n",
      "2024/09/20 15:45:56 INFO mlflow.tracking._tracking_service.client: 🏃 View run clean-quail-489 at: https://dagshub.com/dafnetamayo/nyc-taxi-time-prediction.mlflow/#/experiments/0/runs/e8ebb2ef3f2c43ecb202224f1bf565be.\n",
      "\n",
      "2024/09/20 15:45:56 INFO mlflow.tracking._tracking_service.client: 🧪 View experiment at: https://dagshub.com/dafnetamayo/nyc-taxi-time-prediction.mlflow/#/experiments/0.\n",
      "\n"
     ]
    },
    {
     "name": "stdout",
     "output_type": "stream",
     "text": [
      " 50%|█████     | 5/10 [01:10<01:06, 13.25s/trial, best loss: 5.421237858812696]"
     ]
    },
    {
     "name": "stderr",
     "output_type": "stream",
     "text": [
      "2024/09/20 15:45:56 WARNING mlflow.sklearn: Failed to log training dataset information to MLflow Tracking. Reason: 'numpy.ndarray' object has no attribute 'toarray'\n",
      "\n",
      "2024/09/20 15:46:08 WARNING mlflow.utils.autologging_utils: Encountered unexpected error during sklearn autologging: The following failures occurred while performing one or more logging operations: [MlflowException('Failed to perform one or more operations on the run with ID bbda32dd8422478ab103185822fc2b96. Failed operations: [RestException(\"INVALID_PARAMETER_VALUE: Response: {\\'error_code\\': \\'INVALID_PARAMETER_VALUE\\'}\")]')]\n",
      "\n",
      "2024/09/20 15:46:08 INFO mlflow.tracking._tracking_service.client: 🏃 View run brawny-sponge-349 at: https://dagshub.com/dafnetamayo/nyc-taxi-time-prediction.mlflow/#/experiments/0/runs/bbda32dd8422478ab103185822fc2b96.\n",
      "\n",
      "2024/09/20 15:46:08 INFO mlflow.tracking._tracking_service.client: 🧪 View experiment at: https://dagshub.com/dafnetamayo/nyc-taxi-time-prediction.mlflow/#/experiments/0.\n",
      "\n"
     ]
    },
    {
     "name": "stdout",
     "output_type": "stream",
     "text": [
      " 60%|██████    | 6/10 [01:22<00:52, 13.07s/trial, best loss: 5.421237858812696]"
     ]
    },
    {
     "name": "stderr",
     "output_type": "stream",
     "text": [
      "2024/09/20 15:46:09 WARNING mlflow.sklearn: Failed to log training dataset information to MLflow Tracking. Reason: 'numpy.ndarray' object has no attribute 'toarray'\n",
      "\n",
      "2024/09/20 15:46:19 WARNING mlflow.utils.autologging_utils: Encountered unexpected error during sklearn autologging: The following failures occurred while performing one or more logging operations: [MlflowException('Failed to perform one or more operations on the run with ID 56128bfefced44f394b15b792ff89d01. Failed operations: [RestException(\"INVALID_PARAMETER_VALUE: Response: {\\'error_code\\': \\'INVALID_PARAMETER_VALUE\\'}\")]')]\n",
      "\n",
      "2024/09/20 15:46:19 INFO mlflow.tracking._tracking_service.client: 🏃 View run useful-sow-562 at: https://dagshub.com/dafnetamayo/nyc-taxi-time-prediction.mlflow/#/experiments/0/runs/56128bfefced44f394b15b792ff89d01.\n",
      "\n",
      "2024/09/20 15:46:19 INFO mlflow.tracking._tracking_service.client: 🧪 View experiment at: https://dagshub.com/dafnetamayo/nyc-taxi-time-prediction.mlflow/#/experiments/0.\n",
      "\n"
     ]
    },
    {
     "name": "stdout",
     "output_type": "stream",
     "text": [
      " 70%|███████   | 7/10 [01:33<00:37, 12.35s/trial, best loss: 5.421237858812696]"
     ]
    },
    {
     "name": "stderr",
     "output_type": "stream",
     "text": [
      "2024/09/20 15:46:20 WARNING mlflow.sklearn: Failed to log training dataset information to MLflow Tracking. Reason: 'numpy.ndarray' object has no attribute 'toarray'\n",
      "\n",
      "2024/09/20 15:46:32 WARNING mlflow.utils.autologging_utils: Encountered unexpected error during sklearn autologging: The following failures occurred while performing one or more logging operations: [MlflowException('Failed to perform one or more operations on the run with ID 6143a55380aa41c28ab57cd7e7dc3927. Failed operations: [RestException(\"INVALID_PARAMETER_VALUE: Response: {\\'error_code\\': \\'INVALID_PARAMETER_VALUE\\'}\")]')]\n",
      "\n",
      "2024/09/20 15:46:33 INFO mlflow.tracking._tracking_service.client: 🏃 View run able-squirrel-426 at: https://dagshub.com/dafnetamayo/nyc-taxi-time-prediction.mlflow/#/experiments/0/runs/6143a55380aa41c28ab57cd7e7dc3927.\n",
      "\n",
      "2024/09/20 15:46:33 INFO mlflow.tracking._tracking_service.client: 🧪 View experiment at: https://dagshub.com/dafnetamayo/nyc-taxi-time-prediction.mlflow/#/experiments/0.\n",
      "\n"
     ]
    },
    {
     "name": "stdout",
     "output_type": "stream",
     "text": [
      " 80%|████████  | 8/10 [01:47<00:25, 12.87s/trial, best loss: 5.421237858812696]"
     ]
    },
    {
     "name": "stderr",
     "output_type": "stream",
     "text": [
      "2024/09/20 15:46:34 WARNING mlflow.sklearn: Failed to log training dataset information to MLflow Tracking. Reason: 'numpy.ndarray' object has no attribute 'toarray'\n",
      "\n",
      "2024/09/20 15:46:48 WARNING mlflow.utils.autologging_utils: Encountered unexpected error during sklearn autologging: The following failures occurred while performing one or more logging operations: [MlflowException('Failed to perform one or more operations on the run with ID 9d9e5b00d70c4628a0407520e6d377e5. Failed operations: [RestException(\"INVALID_PARAMETER_VALUE: Response: {\\'error_code\\': \\'INVALID_PARAMETER_VALUE\\'}\")]')]\n",
      "\n",
      "2024/09/20 15:46:49 INFO mlflow.tracking._tracking_service.client: 🏃 View run gifted-pig-173 at: https://dagshub.com/dafnetamayo/nyc-taxi-time-prediction.mlflow/#/experiments/0/runs/9d9e5b00d70c4628a0407520e6d377e5.\n",
      "\n",
      "2024/09/20 15:46:49 INFO mlflow.tracking._tracking_service.client: 🧪 View experiment at: https://dagshub.com/dafnetamayo/nyc-taxi-time-prediction.mlflow/#/experiments/0.\n",
      "\n"
     ]
    },
    {
     "name": "stdout",
     "output_type": "stream",
     "text": [
      " 90%|█████████ | 9/10 [02:03<00:13, 13.81s/trial, best loss: 5.421237858812696]"
     ]
    },
    {
     "name": "stderr",
     "output_type": "stream",
     "text": [
      "2024/09/20 15:46:50 WARNING mlflow.sklearn: Failed to log training dataset information to MLflow Tracking. Reason: 'numpy.ndarray' object has no attribute 'toarray'\n",
      "\n",
      "2024/09/20 15:46:59 WARNING mlflow.utils.autologging_utils: Encountered unexpected error during sklearn autologging: The following failures occurred while performing one or more logging operations: [MlflowException('Failed to perform one or more operations on the run with ID 8f2a5f100b3e4876ac82f4258dcfb44d. Failed operations: [RestException(\"INVALID_PARAMETER_VALUE: Response: {\\'error_code\\': \\'INVALID_PARAMETER_VALUE\\'}\")]')]\n",
      "\n",
      "2024/09/20 15:46:59 INFO mlflow.tracking._tracking_service.client: 🏃 View run chill-ox-44 at: https://dagshub.com/dafnetamayo/nyc-taxi-time-prediction.mlflow/#/experiments/0/runs/8f2a5f100b3e4876ac82f4258dcfb44d.\n",
      "\n",
      "2024/09/20 15:46:59 INFO mlflow.tracking._tracking_service.client: 🧪 View experiment at: https://dagshub.com/dafnetamayo/nyc-taxi-time-prediction.mlflow/#/experiments/0.\n",
      "\n"
     ]
    },
    {
     "name": "stdout",
     "output_type": "stream",
     "text": [
      "100%|██████████| 10/10 [02:14<00:00, 13.41s/trial, best loss: 5.421237858812696]\n"
     ]
    },
    {
     "name": "stderr",
     "output_type": "stream",
     "text": [
      "2024/09/20 15:47:00 INFO mlflow.tracking._tracking_service.client: 🏃 View run Random Forest at: https://dagshub.com/dafnetamayo/nyc-taxi-time-prediction.mlflow/#/experiments/0/runs/95850359032a4159812854ee3465e5c9.\n",
      "2024/09/20 15:47:00 INFO mlflow.tracking._tracking_service.client: 🧪 View experiment at: https://dagshub.com/dafnetamayo/nyc-taxi-time-prediction.mlflow/#/experiments/0.\n"
     ]
    }
   ],
   "source": [
    "mlflow.sklearn.autolog()\n",
    " \n",
    "def objective_rf(params):\n",
    "    with mlflow.start_run(nested=True):\n",
    "        # Set model tag\n",
    "        mlflow.set_tag(\"model_family\", \"random_forest\")\n",
    "        \n",
    "        # Log parameters\n",
    "        mlflow.log_params(params)\n",
    "        \n",
    "        # Train RandomForest model\n",
    "        rf_model = RandomForestRegressor(\n",
    "            n_estimators=int(params['n_estimators']),\n",
    "            max_depth=int(params['max_depth']),\n",
    "            min_samples_split=int(params['min_samples_split']),\n",
    "            min_samples_leaf=int(params['min_samples_leaf']),\n",
    "            random_state=42\n",
    "        )\n",
    "        rf_model.fit(X_train, y_train)\n",
    "        \n",
    "        # Predict on validation dataset\n",
    "        y_pred = rf_model.predict(X_val)\n",
    "        \n",
    "        # Calculate RMSE\n",
    "        rmse = np.sqrt(mean_squared_error(y_val, y_pred))\n",
    "        \n",
    "        # Log RMSE metric\n",
    "        mlflow.log_metric(\"rmse\", rmse)\n",
    " \n",
    "    return {'loss': rmse, 'status': STATUS_OK}\n",
    " \n",
    "# Define search space for RandomForest\n",
    "search_space_rf = {\n",
    "    'n_estimators': hp.quniform('n_estimators', 50, 200, 1),\n",
    "    'max_depth': hp.quniform('max_depth', 5, 10, 1),\n",
    "    'min_samples_split': hp.quniform('min_samples_split', 2, 8, 1),\n",
    "    'min_samples_leaf': hp.quniform('min_samples_leaf', 1, 3, 1),\n",
    "}\n",
    " \n",
    "# Run hyperparameter optimization\n",
    "with mlflow.start_run(run_name=\"Random Forest\", nested=True):\n",
    "    best_params_rf = fmin(\n",
    "        fn=objective_rf,\n",
    "        space=search_space_rf,\n",
    "        algo=tpe.suggest,\n",
    "        max_evals=10,\n",
    "        trials=Trials()\n",
    "    )\n",
    "    \n",
    "    # Log best parameters\n",
    "    mlflow.log_params(best_params_rf)"
   ]
  },
  {
   "cell_type": "code",
   "execution_count": 12,
   "metadata": {},
   "outputs": [
    {
     "name": "stderr",
     "output_type": "stream",
     "text": [
      "Registered model 'nyc-taxi-model' already exists. Creating a new version of this model...\n",
      "2024/09/20 15:49:44 INFO mlflow.store.model_registry.abstract_store: Waiting up to 300 seconds for model version to finish creation. Model name: nyc-taxi-model, version 2\n",
      "Created version '2' of model 'nyc-taxi-model'.\n"
     ]
    }
   ],
   "source": [
    "run_id = \"a9c71dc53e2841749ece654deb960d5d\"\n",
    "run_uri = f\"runs:/{run_id}/model\"\n",
    "\n",
    "result = mlflow.register_model(\n",
    "    model_uri=run_uri,\n",
    "    name=\"nyc-taxi-model\"\n",
    ")"
   ]
  },
  {
   "cell_type": "markdown",
   "metadata": {},
   "source": [
    "## Gradient Boost"
   ]
  },
  {
   "cell_type": "code",
   "execution_count": 13,
   "metadata": {},
   "outputs": [
    {
     "name": "stderr",
     "output_type": "stream",
     "text": [
      "2024/09/20 15:59:10 WARNING mlflow.utils.autologging_utils: MLflow sklearn autologging is known to be compatible with 0.24.1 <= scikit-learn <= 1.5.1, but the installed version is 1.5.2. If you encounter errors during autologging, try upgrading / downgrading scikit-learn to a compatible version, or try upgrading MLflow.\n"
     ]
    },
    {
     "name": "stdout",
     "output_type": "stream",
     "text": [
      "  0%|          | 0/10 [00:00<?, ?trial/s, best loss=?]"
     ]
    },
    {
     "name": "stderr",
     "output_type": "stream",
     "text": [
      "2024/09/20 15:59:11 WARNING mlflow.sklearn: Failed to log training dataset information to MLflow Tracking. Reason: 'numpy.ndarray' object has no attribute 'toarray'\n",
      "\n",
      "2024/09/20 15:59:22 WARNING mlflow.utils.autologging_utils: Encountered unexpected error during sklearn autologging: The following failures occurred while performing one or more logging operations: [MlflowException('Failed to perform one or more operations on the run with ID 8cfc39b505394ec893b3b0792f0bafde. Failed operations: [RestException(\"INVALID_PARAMETER_VALUE: Response: {\\'error_code\\': \\'INVALID_PARAMETER_VALUE\\'}\")]')]\n",
      "\n",
      "2024/09/20 15:59:22 INFO mlflow.tracking._tracking_service.client: 🏃 View run fun-dove-795 at: https://dagshub.com/dafnetamayo/nyc-taxi-time-prediction.mlflow/#/experiments/0/runs/8cfc39b505394ec893b3b0792f0bafde.\n",
      "\n",
      "2024/09/20 15:59:22 INFO mlflow.tracking._tracking_service.client: 🧪 View experiment at: https://dagshub.com/dafnetamayo/nyc-taxi-time-prediction.mlflow/#/experiments/0.\n",
      "\n"
     ]
    },
    {
     "name": "stdout",
     "output_type": "stream",
     "text": [
      " 10%|█         | 1/10 [00:12<01:54, 12.75s/trial, best loss: 5.375466523736079]"
     ]
    },
    {
     "name": "stderr",
     "output_type": "stream",
     "text": [
      "2024/09/20 15:59:23 WARNING mlflow.sklearn: Failed to log training dataset information to MLflow Tracking. Reason: 'numpy.ndarray' object has no attribute 'toarray'\n",
      "\n",
      "2024/09/20 15:59:30 WARNING mlflow.utils.autologging_utils: Encountered unexpected error during sklearn autologging: The following failures occurred while performing one or more logging operations: [MlflowException('Failed to perform one or more operations on the run with ID 0454d93bbbdb4ca999b942904dfa8d3e. Failed operations: [RestException(\"INVALID_PARAMETER_VALUE: Response: {\\'error_code\\': \\'INVALID_PARAMETER_VALUE\\'}\")]')]\n",
      "\n",
      "2024/09/20 15:59:31 INFO mlflow.tracking._tracking_service.client: 🏃 View run skittish-duck-865 at: https://dagshub.com/dafnetamayo/nyc-taxi-time-prediction.mlflow/#/experiments/0/runs/0454d93bbbdb4ca999b942904dfa8d3e.\n",
      "\n",
      "2024/09/20 15:59:31 INFO mlflow.tracking._tracking_service.client: 🧪 View experiment at: https://dagshub.com/dafnetamayo/nyc-taxi-time-prediction.mlflow/#/experiments/0.\n",
      "\n"
     ]
    },
    {
     "name": "stdout",
     "output_type": "stream",
     "text": [
      " 20%|██        | 2/10 [00:20<01:20, 10.07s/trial, best loss: 5.375466523736079]"
     ]
    },
    {
     "name": "stderr",
     "output_type": "stream",
     "text": [
      "2024/09/20 15:59:31 WARNING mlflow.sklearn: Failed to log training dataset information to MLflow Tracking. Reason: 'numpy.ndarray' object has no attribute 'toarray'\n",
      "\n",
      "2024/09/20 15:59:39 WARNING mlflow.utils.autologging_utils: Encountered unexpected error during sklearn autologging: The following failures occurred while performing one or more logging operations: [MlflowException('Failed to perform one or more operations on the run with ID 42f4959032b54798a10245c8aab06a74. Failed operations: [RestException(\"INVALID_PARAMETER_VALUE: Response: {\\'error_code\\': \\'INVALID_PARAMETER_VALUE\\'}\")]')]\n",
      "\n",
      "2024/09/20 15:59:39 INFO mlflow.tracking._tracking_service.client: 🏃 View run enthused-turtle-812 at: https://dagshub.com/dafnetamayo/nyc-taxi-time-prediction.mlflow/#/experiments/0/runs/42f4959032b54798a10245c8aab06a74.\n",
      "\n",
      "2024/09/20 15:59:39 INFO mlflow.tracking._tracking_service.client: 🧪 View experiment at: https://dagshub.com/dafnetamayo/nyc-taxi-time-prediction.mlflow/#/experiments/0.\n",
      "\n"
     ]
    },
    {
     "name": "stdout",
     "output_type": "stream",
     "text": [
      " 30%|███       | 3/10 [00:29<01:06,  9.46s/trial, best loss: 5.3178234853073185]"
     ]
    },
    {
     "name": "stderr",
     "output_type": "stream",
     "text": [
      "2024/09/20 15:59:40 WARNING mlflow.sklearn: Failed to log training dataset information to MLflow Tracking. Reason: 'numpy.ndarray' object has no attribute 'toarray'\n",
      "\n",
      "2024/09/20 15:59:50 WARNING mlflow.utils.autologging_utils: Encountered unexpected error during sklearn autologging: The following failures occurred while performing one or more logging operations: [MlflowException('Failed to perform one or more operations on the run with ID eefcc7ee9d4f4166829f7b5d06a9c1a5. Failed operations: [RestException(\"INVALID_PARAMETER_VALUE: Response: {\\'error_code\\': \\'INVALID_PARAMETER_VALUE\\'}\")]')]\n",
      "\n",
      "2024/09/20 15:59:51 INFO mlflow.tracking._tracking_service.client: 🏃 View run delicate-lark-685 at: https://dagshub.com/dafnetamayo/nyc-taxi-time-prediction.mlflow/#/experiments/0/runs/eefcc7ee9d4f4166829f7b5d06a9c1a5.\n",
      "\n",
      "2024/09/20 15:59:51 INFO mlflow.tracking._tracking_service.client: 🧪 View experiment at: https://dagshub.com/dafnetamayo/nyc-taxi-time-prediction.mlflow/#/experiments/0.\n",
      "\n"
     ]
    },
    {
     "name": "stdout",
     "output_type": "stream",
     "text": [
      " 40%|████      | 4/10 [00:41<01:02, 10.34s/trial, best loss: 5.271957658663778] "
     ]
    },
    {
     "name": "stderr",
     "output_type": "stream",
     "text": [
      "2024/09/20 15:59:52 WARNING mlflow.sklearn: Failed to log training dataset information to MLflow Tracking. Reason: 'numpy.ndarray' object has no attribute 'toarray'\n",
      "\n",
      "2024/09/20 15:59:58 WARNING mlflow.utils.autologging_utils: Encountered unexpected error during sklearn autologging: The following failures occurred while performing one or more logging operations: [MlflowException('Failed to perform one or more operations on the run with ID 5f933dbcdb504a5db258776badec7ca7. Failed operations: [RestException(\"INVALID_PARAMETER_VALUE: Response: {\\'error_code\\': \\'INVALID_PARAMETER_VALUE\\'}\")]')]\n",
      "\n",
      "2024/09/20 15:59:58 INFO mlflow.tracking._tracking_service.client: 🏃 View run flawless-toad-737 at: https://dagshub.com/dafnetamayo/nyc-taxi-time-prediction.mlflow/#/experiments/0/runs/5f933dbcdb504a5db258776badec7ca7.\n",
      "\n",
      "2024/09/20 15:59:58 INFO mlflow.tracking._tracking_service.client: 🧪 View experiment at: https://dagshub.com/dafnetamayo/nyc-taxi-time-prediction.mlflow/#/experiments/0.\n",
      "\n"
     ]
    },
    {
     "name": "stdout",
     "output_type": "stream",
     "text": [
      " 50%|█████     | 5/10 [00:48<00:46,  9.24s/trial, best loss: 5.271957658663778]"
     ]
    },
    {
     "name": "stderr",
     "output_type": "stream",
     "text": [
      "2024/09/20 15:59:59 WARNING mlflow.sklearn: Failed to log training dataset information to MLflow Tracking. Reason: 'numpy.ndarray' object has no attribute 'toarray'\n",
      "\n",
      "2024/09/20 16:00:07 WARNING mlflow.utils.autologging_utils: Encountered unexpected error during sklearn autologging: The following failures occurred while performing one or more logging operations: [MlflowException('Failed to perform one or more operations on the run with ID f893787eece04c5598e53eaa1646b6bf. Failed operations: [RestException(\"INVALID_PARAMETER_VALUE: Response: {\\'error_code\\': \\'INVALID_PARAMETER_VALUE\\'}\")]')]\n",
      "\n",
      "2024/09/20 16:00:07 INFO mlflow.tracking._tracking_service.client: 🏃 View run enthused-auk-408 at: https://dagshub.com/dafnetamayo/nyc-taxi-time-prediction.mlflow/#/experiments/0/runs/f893787eece04c5598e53eaa1646b6bf.\n",
      "\n",
      "2024/09/20 16:00:07 INFO mlflow.tracking._tracking_service.client: 🧪 View experiment at: https://dagshub.com/dafnetamayo/nyc-taxi-time-prediction.mlflow/#/experiments/0.\n",
      "\n"
     ]
    },
    {
     "name": "stdout",
     "output_type": "stream",
     "text": [
      " 60%|██████    | 6/10 [00:57<00:36,  9.07s/trial, best loss: 5.271957658663778]"
     ]
    },
    {
     "name": "stderr",
     "output_type": "stream",
     "text": [
      "2024/09/20 16:00:08 WARNING mlflow.sklearn: Failed to log training dataset information to MLflow Tracking. Reason: 'numpy.ndarray' object has no attribute 'toarray'\n",
      "\n",
      "2024/09/20 16:00:16 WARNING mlflow.utils.autologging_utils: Encountered unexpected error during sklearn autologging: The following failures occurred while performing one or more logging operations: [MlflowException('Failed to perform one or more operations on the run with ID 3bc69f36688b446cb1ad191ee9d237ba. Failed operations: [RestException(\"INVALID_PARAMETER_VALUE: Response: {\\'error_code\\': \\'INVALID_PARAMETER_VALUE\\'}\")]')]\n",
      "\n",
      "2024/09/20 16:00:17 INFO mlflow.tracking._tracking_service.client: 🏃 View run funny-asp-922 at: https://dagshub.com/dafnetamayo/nyc-taxi-time-prediction.mlflow/#/experiments/0/runs/3bc69f36688b446cb1ad191ee9d237ba.\n",
      "\n",
      "2024/09/20 16:00:17 INFO mlflow.tracking._tracking_service.client: 🧪 View experiment at: https://dagshub.com/dafnetamayo/nyc-taxi-time-prediction.mlflow/#/experiments/0.\n",
      "\n"
     ]
    },
    {
     "name": "stdout",
     "output_type": "stream",
     "text": [
      " 70%|███████   | 7/10 [01:06<00:27,  9.24s/trial, best loss: 5.271957658663778]"
     ]
    },
    {
     "name": "stderr",
     "output_type": "stream",
     "text": [
      "2024/09/20 16:00:18 WARNING mlflow.sklearn: Failed to log training dataset information to MLflow Tracking. Reason: 'numpy.ndarray' object has no attribute 'toarray'\n",
      "\n",
      "2024/09/20 16:00:28 WARNING mlflow.utils.autologging_utils: Encountered unexpected error during sklearn autologging: The following failures occurred while performing one or more logging operations: [MlflowException('Failed to perform one or more operations on the run with ID 2b661d5f37684ce39d3ed95ebb271324. Failed operations: [RestException(\"INVALID_PARAMETER_VALUE: Response: {\\'error_code\\': \\'INVALID_PARAMETER_VALUE\\'}\")]')]\n",
      "\n",
      "2024/09/20 16:00:28 INFO mlflow.tracking._tracking_service.client: 🏃 View run useful-crab-633 at: https://dagshub.com/dafnetamayo/nyc-taxi-time-prediction.mlflow/#/experiments/0/runs/2b661d5f37684ce39d3ed95ebb271324.\n",
      "\n",
      "2024/09/20 16:00:28 INFO mlflow.tracking._tracking_service.client: 🧪 View experiment at: https://dagshub.com/dafnetamayo/nyc-taxi-time-prediction.mlflow/#/experiments/0.\n",
      "\n"
     ]
    },
    {
     "name": "stdout",
     "output_type": "stream",
     "text": [
      " 80%|████████  | 8/10 [01:18<00:20, 10.06s/trial, best loss: 5.271957658663778]"
     ]
    },
    {
     "name": "stderr",
     "output_type": "stream",
     "text": [
      "2024/09/20 16:00:29 WARNING mlflow.sklearn: Failed to log training dataset information to MLflow Tracking. Reason: 'numpy.ndarray' object has no attribute 'toarray'\n",
      "\n",
      "2024/09/20 16:00:35 WARNING mlflow.utils.autologging_utils: Encountered unexpected error during sklearn autologging: The following failures occurred while performing one or more logging operations: [MlflowException('Failed to perform one or more operations on the run with ID 7cd8b6530cc241398278de2c0ba0a0d5. Failed operations: [RestException(\"INVALID_PARAMETER_VALUE: Response: {\\'error_code\\': \\'INVALID_PARAMETER_VALUE\\'}\")]')]\n",
      "\n",
      "2024/09/20 16:00:35 INFO mlflow.tracking._tracking_service.client: 🏃 View run charming-snipe-935 at: https://dagshub.com/dafnetamayo/nyc-taxi-time-prediction.mlflow/#/experiments/0/runs/7cd8b6530cc241398278de2c0ba0a0d5.\n",
      "\n",
      "2024/09/20 16:00:35 INFO mlflow.tracking._tracking_service.client: 🧪 View experiment at: https://dagshub.com/dafnetamayo/nyc-taxi-time-prediction.mlflow/#/experiments/0.\n",
      "\n"
     ]
    },
    {
     "name": "stdout",
     "output_type": "stream",
     "text": [
      " 90%|█████████ | 9/10 [01:25<00:09,  9.04s/trial, best loss: 5.271957658663778]"
     ]
    },
    {
     "name": "stderr",
     "output_type": "stream",
     "text": [
      "2024/09/20 16:00:36 WARNING mlflow.sklearn: Failed to log training dataset information to MLflow Tracking. Reason: 'numpy.ndarray' object has no attribute 'toarray'\n",
      "\n",
      "2024/09/20 16:00:41 WARNING mlflow.utils.autologging_utils: Encountered unexpected error during sklearn autologging: The following failures occurred while performing one or more logging operations: [MlflowException('Failed to perform one or more operations on the run with ID 200b7076ebba4ecdb08fc140e507f807. Failed operations: [RestException(\"INVALID_PARAMETER_VALUE: Response: {\\'error_code\\': \\'INVALID_PARAMETER_VALUE\\'}\")]')]\n",
      "\n",
      "2024/09/20 16:00:42 INFO mlflow.tracking._tracking_service.client: 🏃 View run salty-ape-266 at: https://dagshub.com/dafnetamayo/nyc-taxi-time-prediction.mlflow/#/experiments/0/runs/200b7076ebba4ecdb08fc140e507f807.\n",
      "\n",
      "2024/09/20 16:00:42 INFO mlflow.tracking._tracking_service.client: 🧪 View experiment at: https://dagshub.com/dafnetamayo/nyc-taxi-time-prediction.mlflow/#/experiments/0.\n",
      "\n"
     ]
    },
    {
     "name": "stdout",
     "output_type": "stream",
     "text": [
      "100%|██████████| 10/10 [01:32<00:00,  9.23s/trial, best loss: 5.271957658663778]\n"
     ]
    },
    {
     "name": "stderr",
     "output_type": "stream",
     "text": [
      "2024/09/20 16:00:42 INFO mlflow.tracking._tracking_service.client: 🏃 View run Gradient Boosting at: https://dagshub.com/dafnetamayo/nyc-taxi-time-prediction.mlflow/#/experiments/0/runs/3eb039be095d424da79f770e90362b16.\n",
      "2024/09/20 16:00:42 INFO mlflow.tracking._tracking_service.client: 🧪 View experiment at: https://dagshub.com/dafnetamayo/nyc-taxi-time-prediction.mlflow/#/experiments/0.\n"
     ]
    }
   ],
   "source": [
    "mlflow.sklearn.autolog()\n",
    "from sklearn.ensemble import GradientBoostingRegressor, RandomForestRegressor\n",
    " \n",
    "def objective_gb(params):\n",
    "    with mlflow.start_run(nested=True):\n",
    "        # Set model tag\n",
    "        mlflow.set_tag(\"model_family\", \"gradient_boosting\")\n",
    "        \n",
    "        # Log parameters\n",
    "        mlflow.log_params(params)\n",
    "        \n",
    "        # Train GradientBoosting model\n",
    "        gb_model = GradientBoostingRegressor(\n",
    "            n_estimators=int(params['n_estimators']),\n",
    "            max_depth=int(params['max_depth']),\n",
    "            min_samples_split=int(params['min_samples_split']),\n",
    "            min_samples_leaf=int(params['min_samples_leaf']),\n",
    "            learning_rate=float(params['learning_rate']),\n",
    "            random_state=42\n",
    "        )\n",
    "        gb_model.fit(X_train, y_train)\n",
    "        \n",
    "        # Predict on validation dataset\n",
    "        y_pred = gb_model.predict(X_val)\n",
    "        \n",
    "        # Calculate RMSE\n",
    "        rmse = np.sqrt(mean_squared_error(y_val, y_pred))\n",
    "        \n",
    "        # Log RMSE metric\n",
    "        mlflow.log_metric(\"rmse\", rmse)\n",
    " \n",
    "    return {'loss': rmse, 'status': STATUS_OK}\n",
    " \n",
    "# Define search space for GradientBoosting\n",
    "search_space_gb = {\n",
    "    'n_estimators': hp.quniform('n_estimators', 50, 200, 1),\n",
    "    'max_depth': hp.quniform('max_depth', 3, 8, 1),\n",
    "    'min_samples_split': hp.quniform('min_samples_split', 2, 6, 1),\n",
    "    'min_samples_leaf': hp.quniform('min_samples_leaf', 1, 3, 1),\n",
    "    'learning_rate': hp.uniform('learning_rate', 0.01, 0.1)\n",
    "}\n",
    " \n",
    "# Run hyperparameter optimization for GradientBoosting\n",
    "with mlflow.start_run(run_name=\"Gradient Boosting\", nested=True):\n",
    "    best_params_gb = fmin(\n",
    "        fn=objective_gb,\n",
    "        space=search_space_gb,\n",
    "        algo=tpe.suggest,\n",
    "        max_evals=10,\n",
    "        trials=Trials()\n",
    "    )\n",
    "    \n",
    "    # Log best parameters\n",
    "    mlflow.log_params(best_params_gb)"
   ]
  },
  {
   "cell_type": "code",
   "execution_count": 14,
   "metadata": {},
   "outputs": [
    {
     "name": "stderr",
     "output_type": "stream",
     "text": [
      "Registered model 'nyc-taxi-model' already exists. Creating a new version of this model...\n",
      "2024/09/20 16:02:51 INFO mlflow.store.model_registry.abstract_store: Waiting up to 300 seconds for model version to finish creation. Model name: nyc-taxi-model, version 3\n",
      "Created version '3' of model 'nyc-taxi-model'.\n"
     ]
    }
   ],
   "source": [
    "\n",
    "run_id = \"0454d93bbbdb4ca999b942904dfa8d3e\"\n",
    "run_uri = f\"runs:/{run_id}/model\"\n",
    "\n",
    "result = mlflow.register_model(\n",
    "    model_uri=run_uri,\n",
    "    name=\"nyc-taxi-model\"\n",
    ")"
   ]
  },
  {
   "cell_type": "code",
   "execution_count": null,
   "metadata": {},
   "outputs": [],
   "source": []
  },
  {
   "cell_type": "code",
   "execution_count": null,
   "metadata": {},
   "outputs": [],
   "source": []
  }
 ],
 "metadata": {
  "kernelspec": {
   "display_name": ".venv",
   "language": "python",
   "name": "python3"
  },
  "language_info": {
   "codemirror_mode": {
    "name": "ipython",
    "version": 3
   },
   "file_extension": ".py",
   "mimetype": "text/x-python",
   "name": "python",
   "nbconvert_exporter": "python",
   "pygments_lexer": "ipython3",
   "version": "3.12.4"
  }
 },
 "nbformat": 4,
 "nbformat_minor": 2
}
